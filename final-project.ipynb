{
 "cells": [
  {
   "cell_type": "markdown",
   "metadata": {},
   "source": [
    "# Examining Pan-Cancer Differential Methylation Markers\n"
   ]
  },
  {
   "cell_type": "markdown",
   "metadata": {},
   "source": [
    "## 1) Get your data\n",
    "You may use any data set(s) you like, so long as they meet these criteria:\n",
    "\n",
    "* Your data must be publically available for free.\n",
    "* Your data should be interesting to _you_. You want your final project to be something you're proud of.\n",
    "* Your data should be \"big enough\":\n",
    "    - It should have at least 1,000 rows.\n",
    "    - It should have enough of columns to be interesting.\n",
    "    - If you have questions, contact a member of the instructional team."
   ]
  },
  {
   "cell_type": "markdown",
   "metadata": {},
   "source": [
    "## 2) Provide a link to your data\n",
    "Your data is required to be free and open to anyone.\n",
    "As such, you should have a URL which anyone can use to download your data:"
   ]
  },
  {
   "cell_type": "markdown",
   "metadata": {},
   "source": [
    "* For my project I used TCGA methylation data downloaded from the [Genomic Data Commons](https://portal.gdc.cancer.gov)."
   ]
  },
  {
   "cell_type": "markdown",
   "metadata": {},
   "source": [
    "## Problem statement.\n",
    "Below, write a problem statement. Keep in mind that your task is to tease out relationships in your data and eventually build a predictive model. Your problem statement can be vague, but you should have a goal in mind. Your problem statement should be between one sentence and one paragraph."
   ]
  },
  {
   "cell_type": "markdown",
   "metadata": {},
   "source": [
    "* The goal of this project is to compare performance of supervised machine learning algorithms for predicting sample status (either tumor or normal) using potential pan-cancer methylation probes."
   ]
  },
  {
   "cell_type": "markdown",
   "metadata": {},
   "source": [
    "## 3) Import your data\n",
    "In the space below, import your data.\n",
    "If your data span multiple files, read them all in.\n",
    "If applicable, merge or append them as needed."
   ]
  },
  {
   "cell_type": "code",
   "execution_count": 132,
   "metadata": {},
   "outputs": [],
   "source": [
    "#importing required packages and functions\n",
    "import pandas as pd\n",
    "import numpy as np\n",
    "import seaborn as sb\n",
    "import matplotlib\n",
    "import matplotlib.pyplot as plt\n",
    "from sklearn.model_selection import train_test_split, KFold, GridSearchCV\n",
    "from sklearn.tree import DecisionTreeClassifier\n",
    "from sklearn.neighbors import KNeighborsClassifier\n",
    "from sklearn.metrics import mean_squared_error"
   ]
  },
  {
   "cell_type": "code",
   "execution_count": 7,
   "metadata": {},
   "outputs": [],
   "source": [
    "#reading in breast cancer data and removing rows with NAs.\n",
    "BRCA = pd.read_csv('BRCA.csv', sep = ',', index_col = 0)\n",
    "BRCA = BRCA.dropna(how = 'all')\n",
    "BRCA_class = pd.read_csv('~/Documents/biof509/final-project/BRCA_class.csv', sep = ',', index_col = 0)['x']\n",
    "BRCA_class.index = BRCA.columns"
   ]
  },
  {
   "cell_type": "code",
   "execution_count": 47,
   "metadata": {},
   "outputs": [],
   "source": [
    "#separating tumors and normals\n",
    "BRCA_normals = BRCA.loc[:,BRCA_class == 0]\n",
    "BRCA_tumors = BRCA.loc[:,BRCA_class == 1]"
   ]
  },
  {
   "cell_type": "code",
   "execution_count": 192,
   "metadata": {},
   "outputs": [],
   "source": [
    "#filtering out rows where absolute difference in methylation is < 0.3 between tumors and normals\n",
    "BRCA = BRCA.loc[(abs(BRCA_normals.mean(axis = 1) - BRCA_tumors.mean(axis = 1)) > 0.35),:]"
   ]
  },
  {
   "cell_type": "code",
   "execution_count": 189,
   "metadata": {},
   "outputs": [],
   "source": [
    "#replacing any remaining NAs with mean for that CpG site and sample type\n",
    "BRCA.loc[:,BRCA_class == 1] = BRCA.loc[:,BRCA_class == 1].fillna(BRCA_tumors.mean())\n",
    "BRCA.loc[:,BRCA_class == 0] = BRCA.loc[:,BRCA_class == 0].fillna(BRCA_normals.mean())"
   ]
  },
  {
   "cell_type": "code",
   "execution_count": 76,
   "metadata": {},
   "outputs": [],
   "source": [
    "#reading in colon cancer data and removing rows with NAs.\n",
    "COAD = pd.read_csv('~/Documents/biof509/final-project/COAD.csv', sep = ',', index_col = 0)\n",
    "COAD = COAD.dropna(how = 'all')\n",
    "COAD_class = pd.read_csv('~/Documents/biof509/final-project/COAD_class.csv', sep = ',', index_col = 0)['x']\n",
    "COAD_class.index = COAD.columns"
   ]
  },
  {
   "cell_type": "code",
   "execution_count": 110,
   "metadata": {},
   "outputs": [],
   "source": [
    "#separating tumors and normals\n",
    "COAD_normals = COAD.loc[:,COAD_class == 0]\n",
    "COAD_tumors = COAD.loc[:,COAD_class == 1]\n",
    "\n",
    "#filtering out rows where absolute difference in methylation is < 0.3 between tumors and normals\n",
    "COAD = COAD.loc[(abs(COAD_normals.mean(axis = 1) - COAD_tumors.mean(axis = 1)) > 0.35),:]\n",
    "\n",
    "#replacing any remaining NAs with mean for that CpG site and sample type\n",
    "COAD.loc[:,COAD_class == 1] = COAD.loc[:,COAD_class == 1].fillna(COAD_tumors.mean())\n",
    "COAD.loc[:,COAD_class == 0] = COAD.loc[:,COAD_class == 0].fillna(COAD_normals.mean())"
   ]
  },
  {
   "cell_type": "code",
   "execution_count": 24,
   "metadata": {},
   "outputs": [],
   "source": [
    "#reading in lung cancer data and removing rows with NAs.\n",
    "LUAD = pd.read_csv('~/Documents/biof509/final-project/LUAD.csv', sep = ',', index_col = 0)\n",
    "LUAD = LUAD.dropna(how = 'all')\n",
    "LUAD_class = pd.read_csv('~/Documents/biof509/final-project/LUAD_class.csv', sep = ',', index_col = 0)['x']\n",
    "LUAD_class.index = LUAD.columns"
   ]
  },
  {
   "cell_type": "code",
   "execution_count": 111,
   "metadata": {},
   "outputs": [],
   "source": [
    "#separating tumors and normals\n",
    "LUAD_normals = LUAD.loc[:,LUAD_class == 0]\n",
    "LUAD_tumors = LUAD.loc[:,LUAD_class == 1]\n",
    "\n",
    "#filtering out rows where absolute difference in methylation is < 0.3 between tumors and normals\n",
    "LUAD = LUAD.loc[(abs(LUAD_normals.mean(axis = 1) - LUAD_tumors.mean(axis = 1)) > 0.35),:]\n",
    "\n",
    "#replacing any remaining NAs with mean for that CpG site and sample type\n",
    "LUAD.loc[:,LUAD_class == 1] = LUAD.loc[:,LUAD_class == 1].fillna(LUAD_tumors.mean())\n",
    "LUAD.loc[:,LUAD_class == 0] = LUAD.loc[:,LUAD_class == 0].fillna(LUAD_normals.mean())"
   ]
  },
  {
   "cell_type": "code",
   "execution_count": 112,
   "metadata": {},
   "outputs": [],
   "source": [
    "#merging breast, colon, and lung cancer data sets together\n",
    "TCGA = BRCA.merge(COAD,left_index = True, right_index=True).merge(LUAD, left_index = True, right_index = True).transpose()\n",
    "TCGA_class = BRCA_class.append(COAD_class).append(LUAD_class)"
   ]
  },
  {
   "cell_type": "code",
   "execution_count": 122,
   "metadata": {},
   "outputs": [
    {
     "data": {
      "image/png": "[encoded data removed]",
      "text/plain": [
       "<Figure size 432x288 with 1 Axes>"
      ]
     },
     "metadata": {
      "needs_background": "light"
     },
     "output_type": "display_data"
    }
   ],
   "source": [
    "#plotting distribution of normal samples\n",
    "plt.hist(TCGA.loc[TCGA_class == 0,:], range = (0,1), facecolor = 'blue');\n",
    "plt.title('Distribution of Normal Methylation Levels');\n",
    "plt.xlabel('Methylation Level');"
   ]
  },
  {
   "cell_type": "code",
   "execution_count": 123,
   "metadata": {},
   "outputs": [
    {
     "data": {
      "image/png": "[encoded data removed]",
      "text/plain": [
       "<Figure size 432x288 with 1 Axes>"
      ]
     },
     "metadata": {
      "needs_background": "light"
     },
     "output_type": "display_data"
    }
   ],
   "source": [
    "#plotting distribution of tumor samples\n",
    "plt.hist(TCGA.loc[TCGA_class == 1,:], range = (0,1), facecolor = 'red');\n",
    "plt.title('Distribution of Tumor Methylation Levels');\n",
    "plt.xlabel('Methylation Level');\n",
    "plt.ylim([0,65]);"
   ]
  },
  {
   "cell_type": "code",
   "execution_count": 187,
   "metadata": {},
   "outputs": [
    {
     "data": {
      "text/plain": [
       "<Figure size 14400x14400 with 0 Axes>"
      ]
     },
     "metadata": {},
     "output_type": "display_data"
    },
    {
     "data": {
      "image/png": "[encoded data removed]",
      "text/plain": [
       "<Figure size 288x288 with 2 Axes>"
      ]
     },
     "metadata": {
      "needs_background": "light"
     },
     "output_type": "display_data"
    }
   ],
   "source": [
    "plt.figure(figsize = (200,200));\n",
    "plt.matshow(TCGA.corr());\n",
    "plt.colorbar();"
   ]
  },
  {
   "cell_type": "markdown",
   "metadata": {},
   "source": [
    "## 4) Show me the head of your data."
   ]
  },
  {
   "cell_type": "code",
   "execution_count": 117,
   "metadata": {},
   "outputs": [
    {
     "data": {
      "text/html": [
       "<div>\n",
       "<style scoped>\n",
       "    .dataframe tbody tr th:only-of-type {\n",
       "        vertical-align: middle;\n",
       "    }\n",
       "\n",
       "    .dataframe tbody tr th {\n",
       "        vertical-align: top;\n",
       "    }\n",
       "\n",
       "    .dataframe thead th {\n",
       "        text-align: right;\n",
       "    }\n",
       "</style>\n",
       "<table border=\"1\" class=\"dataframe\">\n",
       "  <thead>\n",
       "    <tr style=\"text-align: right;\">\n",
       "      <th></th>\n",
       "      <th>cg00295794</th>\n",
       "      <th>cg00396667</th>\n",
       "      <th>cg00459623</th>\n",
       "      <th>cg00557947</th>\n",
       "      <th>cg00817367</th>\n",
       "      <th>cg01419831</th>\n",
       "      <th>cg01518607</th>\n",
       "      <th>cg01688536</th>\n",
       "      <th>cg01890568</th>\n",
       "      <th>cg01893212</th>\n",
       "      <th>...</th>\n",
       "      <th>cg25078444</th>\n",
       "      <th>cg25209842</th>\n",
       "      <th>cg26132774</th>\n",
       "      <th>cg26210445</th>\n",
       "      <th>cg26299169</th>\n",
       "      <th>cg26452868</th>\n",
       "      <th>cg26479667</th>\n",
       "      <th>cg26809635</th>\n",
       "      <th>cg27252696</th>\n",
       "      <th>cg27649239</th>\n",
       "    </tr>\n",
       "  </thead>\n",
       "  <tbody>\n",
       "    <tr>\n",
       "      <th>TCGA-A2-A1FV-01A-11D-A13K-05</th>\n",
       "      <td>0.804098</td>\n",
       "      <td>0.804415</td>\n",
       "      <td>0.027807</td>\n",
       "      <td>0.868798</td>\n",
       "      <td>0.856811</td>\n",
       "      <td>0.821553</td>\n",
       "      <td>0.958562</td>\n",
       "      <td>0.871058</td>\n",
       "      <td>0.090245</td>\n",
       "      <td>0.923317</td>\n",
       "      <td>...</td>\n",
       "      <td>0.933043</td>\n",
       "      <td>0.795875</td>\n",
       "      <td>0.889620</td>\n",
       "      <td>0.917378</td>\n",
       "      <td>0.289994</td>\n",
       "      <td>0.943062</td>\n",
       "      <td>0.090924</td>\n",
       "      <td>0.811636</td>\n",
       "      <td>0.813934</td>\n",
       "      <td>0.850434</td>\n",
       "    </tr>\n",
       "    <tr>\n",
       "      <th>TCGA-A2-A1FW-01A-11D-A13K-05</th>\n",
       "      <td>0.903405</td>\n",
       "      <td>0.869170</td>\n",
       "      <td>0.717580</td>\n",
       "      <td>0.912815</td>\n",
       "      <td>0.935425</td>\n",
       "      <td>0.663264</td>\n",
       "      <td>0.948987</td>\n",
       "      <td>0.842029</td>\n",
       "      <td>0.397586</td>\n",
       "      <td>0.934050</td>\n",
       "      <td>...</td>\n",
       "      <td>0.939458</td>\n",
       "      <td>0.864307</td>\n",
       "      <td>0.915645</td>\n",
       "      <td>0.946833</td>\n",
       "      <td>0.511710</td>\n",
       "      <td>0.953965</td>\n",
       "      <td>0.038638</td>\n",
       "      <td>0.875273</td>\n",
       "      <td>0.786037</td>\n",
       "      <td>0.918238</td>\n",
       "    </tr>\n",
       "    <tr>\n",
       "      <th>TCGA-A2-A1FX-01A-11D-A13K-05</th>\n",
       "      <td>0.623872</td>\n",
       "      <td>0.718047</td>\n",
       "      <td>0.127058</td>\n",
       "      <td>0.333769</td>\n",
       "      <td>0.799612</td>\n",
       "      <td>0.427485</td>\n",
       "      <td>0.768805</td>\n",
       "      <td>0.207609</td>\n",
       "      <td>0.288757</td>\n",
       "      <td>0.758299</td>\n",
       "      <td>...</td>\n",
       "      <td>0.762585</td>\n",
       "      <td>0.624512</td>\n",
       "      <td>0.445409</td>\n",
       "      <td>0.755683</td>\n",
       "      <td>0.560186</td>\n",
       "      <td>0.829776</td>\n",
       "      <td>0.170291</td>\n",
       "      <td>0.689439</td>\n",
       "      <td>0.650224</td>\n",
       "      <td>0.745432</td>\n",
       "    </tr>\n",
       "    <tr>\n",
       "      <th>TCGA-A2-A1G0-01A-11D-A13K-05</th>\n",
       "      <td>0.566034</td>\n",
       "      <td>0.770583</td>\n",
       "      <td>0.018983</td>\n",
       "      <td>0.048856</td>\n",
       "      <td>0.041081</td>\n",
       "      <td>0.049035</td>\n",
       "      <td>0.732891</td>\n",
       "      <td>0.468389</td>\n",
       "      <td>0.273484</td>\n",
       "      <td>0.255730</td>\n",
       "      <td>...</td>\n",
       "      <td>0.423635</td>\n",
       "      <td>0.600893</td>\n",
       "      <td>0.497046</td>\n",
       "      <td>0.563073</td>\n",
       "      <td>0.153297</td>\n",
       "      <td>0.572538</td>\n",
       "      <td>0.258475</td>\n",
       "      <td>0.020553</td>\n",
       "      <td>0.358766</td>\n",
       "      <td>0.129208</td>\n",
       "    </tr>\n",
       "    <tr>\n",
       "      <th>TCGA-A2-A1G1-01A-21D-A13K-05</th>\n",
       "      <td>0.657521</td>\n",
       "      <td>0.538549</td>\n",
       "      <td>0.465221</td>\n",
       "      <td>0.625125</td>\n",
       "      <td>0.652166</td>\n",
       "      <td>0.583487</td>\n",
       "      <td>0.814104</td>\n",
       "      <td>0.446187</td>\n",
       "      <td>0.325014</td>\n",
       "      <td>0.508865</td>\n",
       "      <td>...</td>\n",
       "      <td>0.057779</td>\n",
       "      <td>0.048506</td>\n",
       "      <td>0.693632</td>\n",
       "      <td>0.617121</td>\n",
       "      <td>0.599538</td>\n",
       "      <td>0.795139</td>\n",
       "      <td>0.762259</td>\n",
       "      <td>0.660466</td>\n",
       "      <td>0.044718</td>\n",
       "      <td>0.637309</td>\n",
       "    </tr>\n",
       "  </tbody>\n",
       "</table>\n",
       "<p>5 rows × 100 columns</p>\n",
       "</div>"
      ],
      "text/plain": [
       "                              cg00295794  cg00396667  cg00459623  cg00557947  \\\n",
       "TCGA-A2-A1FV-01A-11D-A13K-05    0.804098    0.804415    0.027807    0.868798   \n",
       "TCGA-A2-A1FW-01A-11D-A13K-05    0.903405    0.869170    0.717580    0.912815   \n",
       "TCGA-A2-A1FX-01A-11D-A13K-05    0.623872    0.718047    0.127058    0.333769   \n",
       "TCGA-A2-A1G0-01A-11D-A13K-05    0.566034    0.770583    0.018983    0.048856   \n",
       "TCGA-A2-A1G1-01A-21D-A13K-05    0.657521    0.538549    0.465221    0.625125   \n",
       "\n",
       "                              cg00817367  cg01419831  cg01518607  cg01688536  \\\n",
       "TCGA-A2-A1FV-01A-11D-A13K-05    0.856811    0.821553    0.958562    0.871058   \n",
       "TCGA-A2-A1FW-01A-11D-A13K-05    0.935425    0.663264    0.948987    0.842029   \n",
       "TCGA-A2-A1FX-01A-11D-A13K-05    0.799612    0.427485    0.768805    0.207609   \n",
       "TCGA-A2-A1G0-01A-11D-A13K-05    0.041081    0.049035    0.732891    0.468389   \n",
       "TCGA-A2-A1G1-01A-21D-A13K-05    0.652166    0.583487    0.814104    0.446187   \n",
       "\n",
       "                              cg01890568  cg01893212  ...  cg25078444  \\\n",
       "TCGA-A2-A1FV-01A-11D-A13K-05    0.090245    0.923317  ...    0.933043   \n",
       "TCGA-A2-A1FW-01A-11D-A13K-05    0.397586    0.934050  ...    0.939458   \n",
       "TCGA-A2-A1FX-01A-11D-A13K-05    0.288757    0.758299  ...    0.762585   \n",
       "TCGA-A2-A1G0-01A-11D-A13K-05    0.273484    0.255730  ...    0.423635   \n",
       "TCGA-A2-A1G1-01A-21D-A13K-05    0.325014    0.508865  ...    0.057779   \n",
       "\n",
       "                              cg25209842  cg26132774  cg26210445  cg26299169  \\\n",
       "TCGA-A2-A1FV-01A-11D-A13K-05    0.795875    0.889620    0.917378    0.289994   \n",
       "TCGA-A2-A1FW-01A-11D-A13K-05    0.864307    0.915645    0.946833    0.511710   \n",
       "TCGA-A2-A1FX-01A-11D-A13K-05    0.624512    0.445409    0.755683    0.560186   \n",
       "TCGA-A2-A1G0-01A-11D-A13K-05    0.600893    0.497046    0.563073    0.153297   \n",
       "TCGA-A2-A1G1-01A-21D-A13K-05    0.048506    0.693632    0.617121    0.599538   \n",
       "\n",
       "                              cg26452868  cg26479667  cg26809635  cg27252696  \\\n",
       "TCGA-A2-A1FV-01A-11D-A13K-05    0.943062    0.090924    0.811636    0.813934   \n",
       "TCGA-A2-A1FW-01A-11D-A13K-05    0.953965    0.038638    0.875273    0.786037   \n",
       "TCGA-A2-A1FX-01A-11D-A13K-05    0.829776    0.170291    0.689439    0.650224   \n",
       "TCGA-A2-A1G0-01A-11D-A13K-05    0.572538    0.258475    0.020553    0.358766   \n",
       "TCGA-A2-A1G1-01A-21D-A13K-05    0.795139    0.762259    0.660466    0.044718   \n",
       "\n",
       "                              cg27649239  \n",
       "TCGA-A2-A1FV-01A-11D-A13K-05    0.850434  \n",
       "TCGA-A2-A1FW-01A-11D-A13K-05    0.918238  \n",
       "TCGA-A2-A1FX-01A-11D-A13K-05    0.745432  \n",
       "TCGA-A2-A1G0-01A-11D-A13K-05    0.129208  \n",
       "TCGA-A2-A1G1-01A-21D-A13K-05    0.637309  \n",
       "\n",
       "[5 rows x 100 columns]"
      ]
     },
     "execution_count": 117,
     "metadata": {},
     "output_type": "execute_result"
    }
   ],
   "source": [
    "TCGA.head()"
   ]
  },
  {
   "cell_type": "code",
   "execution_count": 55,
   "metadata": {},
   "outputs": [
    {
     "data": {
      "text/plain": [
       "TCGA-A2-A1FV-01A-11D-A13K-05    1\n",
       "TCGA-A2-A1FW-01A-11D-A13K-05    1\n",
       "TCGA-A2-A1FX-01A-11D-A13K-05    1\n",
       "TCGA-A2-A1G0-01A-11D-A13K-05    1\n",
       "TCGA-A2-A1G1-01A-21D-A13K-05    1\n",
       "TCGA-A2-A1G4-01A-11D-A13K-05    1\n",
       "TCGA-A2-A1G6-01A-11D-A13K-05    1\n",
       "TCGA-A7-A13G-01A-11D-A13K-05    1\n",
       "TCGA-A7-A13G-01B-04D-A22R-05    1\n",
       "TCGA-A7-A13G-11A-51D-A13T-05    0\n",
       "TCGA-AO-A1KO-01A-31D-A13K-05    1\n",
       "TCGA-AO-A1KP-01A-11D-A13K-05    1\n",
       "TCGA-AO-A1KQ-01A-11D-A13K-05    1\n",
       "TCGA-AO-A1KS-01A-11D-A13K-05    1\n",
       "TCGA-AO-A1KT-01A-11D-A13K-05    1\n",
       "TCGA-AQ-A1H2-01A-11D-A13K-05    1\n",
       "TCGA-AQ-A1H3-01A-31D-A13K-05    1\n",
       "TCGA-B6-A1KC-01A-11D-A13K-05    1\n",
       "TCGA-B6-A1KC-01B-11D-A161-05    1\n",
       "TCGA-B6-A1KF-01A-11D-A13K-05    1\n",
       "Name: x, dtype: int64"
      ]
     },
     "execution_count": 55,
     "metadata": {},
     "output_type": "execute_result"
    }
   ],
   "source": [
    "TCGA_class.head(20)"
   ]
  },
  {
   "cell_type": "markdown",
   "metadata": {},
   "source": [
    "## 5) Show me the shape of your data"
   ]
  },
  {
   "cell_type": "code",
   "execution_count": 114,
   "metadata": {},
   "outputs": [
    {
     "data": {
      "text/plain": [
       "(1752, 100)"
      ]
     },
     "execution_count": 114,
     "metadata": {},
     "output_type": "execute_result"
    }
   ],
   "source": [
    "TCGA.shape"
   ]
  },
  {
   "cell_type": "markdown",
   "metadata": {},
   "source": [
    "## 6) Show me the proportion of missing observations for each column of your data"
   ]
  },
  {
   "cell_type": "code",
   "execution_count": 193,
   "metadata": {},
   "outputs": [],
   "source": [
    "#TCGA.isna().sum(axis = 1)/TCGA.shape[0]"
   ]
  },
  {
   "cell_type": "markdown",
   "metadata": {},
   "source": [
    "## 8) What is your _y_-variable?\n",
    "For final project, you will need to perform a statistical model. This means you will have to accurately predict some y-variable for some combination of x-variables. From your problem statement in part 7, what is that y-variable?"
   ]
  },
  {
   "cell_type": "markdown",
   "metadata": {},
   "source": [
    "For my project, the y variable is the sample type, which is either tumor or normal (represented as 1 and 0, respectively)."
   ]
  },
  {
   "cell_type": "markdown",
   "metadata": {},
   "source": [
    "## KNN and Decision Tree Model Predictions"
   ]
  },
  {
   "cell_type": "code",
   "execution_count": 172,
   "metadata": {},
   "outputs": [],
   "source": [
    "# Cross validation with KNN\n",
    "knn_gs = GridSearchCV(estimator= KNeighborsClassifier(), param_grid={\"n_neighbors\": [3, 5, 7, 9, 11]}, cv=KFold(n_splits=5), iid=False)\n",
    "knn_gs.fit(TCGA, TCGA_class);"
   ]
  },
  {
   "cell_type": "code",
   "execution_count": 173,
   "metadata": {},
   "outputs": [
    {
     "data": {
      "text/html": [
       "<div>\n",
       "<style scoped>\n",
       "    .dataframe tbody tr th:only-of-type {\n",
       "        vertical-align: middle;\n",
       "    }\n",
       "\n",
       "    .dataframe tbody tr th {\n",
       "        vertical-align: top;\n",
       "    }\n",
       "\n",
       "    .dataframe thead th {\n",
       "        text-align: right;\n",
       "    }\n",
       "</style>\n",
       "<table border=\"1\" class=\"dataframe\">\n",
       "  <thead>\n",
       "    <tr style=\"text-align: right;\">\n",
       "      <th></th>\n",
       "      <th>mean_fit_time</th>\n",
       "      <th>std_fit_time</th>\n",
       "      <th>mean_score_time</th>\n",
       "      <th>std_score_time</th>\n",
       "      <th>param_n_neighbors</th>\n",
       "      <th>params</th>\n",
       "      <th>split0_test_score</th>\n",
       "      <th>split1_test_score</th>\n",
       "      <th>split2_test_score</th>\n",
       "      <th>split3_test_score</th>\n",
       "      <th>split4_test_score</th>\n",
       "      <th>mean_test_score</th>\n",
       "      <th>std_test_score</th>\n",
       "      <th>rank_test_score</th>\n",
       "    </tr>\n",
       "  </thead>\n",
       "  <tbody>\n",
       "    <tr>\n",
       "      <th>0</th>\n",
       "      <td>0.003071</td>\n",
       "      <td>0.000550</td>\n",
       "      <td>0.064593</td>\n",
       "      <td>0.004344</td>\n",
       "      <td>3</td>\n",
       "      <td>{'n_neighbors': 3}</td>\n",
       "      <td>0.968661</td>\n",
       "      <td>0.985755</td>\n",
       "      <td>0.971429</td>\n",
       "      <td>0.988571</td>\n",
       "      <td>0.980000</td>\n",
       "      <td>0.978883</td>\n",
       "      <td>0.007777</td>\n",
       "      <td>3</td>\n",
       "    </tr>\n",
       "    <tr>\n",
       "      <th>1</th>\n",
       "      <td>0.002804</td>\n",
       "      <td>0.000148</td>\n",
       "      <td>0.064263</td>\n",
       "      <td>0.001706</td>\n",
       "      <td>5</td>\n",
       "      <td>{'n_neighbors': 5}</td>\n",
       "      <td>0.968661</td>\n",
       "      <td>0.980057</td>\n",
       "      <td>0.968571</td>\n",
       "      <td>0.988571</td>\n",
       "      <td>0.980000</td>\n",
       "      <td>0.977172</td>\n",
       "      <td>0.007651</td>\n",
       "      <td>5</td>\n",
       "    </tr>\n",
       "    <tr>\n",
       "      <th>2</th>\n",
       "      <td>0.002779</td>\n",
       "      <td>0.000140</td>\n",
       "      <td>0.062905</td>\n",
       "      <td>0.001351</td>\n",
       "      <td>7</td>\n",
       "      <td>{'n_neighbors': 7}</td>\n",
       "      <td>0.971510</td>\n",
       "      <td>0.982906</td>\n",
       "      <td>0.971429</td>\n",
       "      <td>0.988571</td>\n",
       "      <td>0.982857</td>\n",
       "      <td>0.979455</td>\n",
       "      <td>0.006843</td>\n",
       "      <td>2</td>\n",
       "    </tr>\n",
       "    <tr>\n",
       "      <th>3</th>\n",
       "      <td>0.002834</td>\n",
       "      <td>0.000307</td>\n",
       "      <td>0.063404</td>\n",
       "      <td>0.002329</td>\n",
       "      <td>9</td>\n",
       "      <td>{'n_neighbors': 9}</td>\n",
       "      <td>0.971510</td>\n",
       "      <td>0.980057</td>\n",
       "      <td>0.974286</td>\n",
       "      <td>0.988571</td>\n",
       "      <td>0.982857</td>\n",
       "      <td>0.979456</td>\n",
       "      <td>0.006081</td>\n",
       "      <td>1</td>\n",
       "    </tr>\n",
       "    <tr>\n",
       "      <th>4</th>\n",
       "      <td>0.002765</td>\n",
       "      <td>0.000074</td>\n",
       "      <td>0.065382</td>\n",
       "      <td>0.003098</td>\n",
       "      <td>11</td>\n",
       "      <td>{'n_neighbors': 11}</td>\n",
       "      <td>0.971510</td>\n",
       "      <td>0.974359</td>\n",
       "      <td>0.974286</td>\n",
       "      <td>0.988571</td>\n",
       "      <td>0.980000</td>\n",
       "      <td>0.977745</td>\n",
       "      <td>0.006076</td>\n",
       "      <td>4</td>\n",
       "    </tr>\n",
       "  </tbody>\n",
       "</table>\n",
       "</div>"
      ],
      "text/plain": [
       "   mean_fit_time  std_fit_time  mean_score_time  std_score_time  \\\n",
       "0       0.003071      0.000550         0.064593        0.004344   \n",
       "1       0.002804      0.000148         0.064263        0.001706   \n",
       "2       0.002779      0.000140         0.062905        0.001351   \n",
       "3       0.002834      0.000307         0.063404        0.002329   \n",
       "4       0.002765      0.000074         0.065382        0.003098   \n",
       "\n",
       "  param_n_neighbors               params  split0_test_score  \\\n",
       "0                 3   {'n_neighbors': 3}           0.968661   \n",
       "1                 5   {'n_neighbors': 5}           0.968661   \n",
       "2                 7   {'n_neighbors': 7}           0.971510   \n",
       "3                 9   {'n_neighbors': 9}           0.971510   \n",
       "4                11  {'n_neighbors': 11}           0.971510   \n",
       "\n",
       "   split1_test_score  split2_test_score  split3_test_score  split4_test_score  \\\n",
       "0           0.985755           0.971429           0.988571           0.980000   \n",
       "1           0.980057           0.968571           0.988571           0.980000   \n",
       "2           0.982906           0.971429           0.988571           0.982857   \n",
       "3           0.980057           0.974286           0.988571           0.982857   \n",
       "4           0.974359           0.974286           0.988571           0.980000   \n",
       "\n",
       "   mean_test_score  std_test_score  rank_test_score  \n",
       "0         0.978883        0.007777                3  \n",
       "1         0.977172        0.007651                5  \n",
       "2         0.979455        0.006843                2  \n",
       "3         0.979456        0.006081                1  \n",
       "4         0.977745        0.006076                4  "
      ]
     },
     "execution_count": 173,
     "metadata": {},
     "output_type": "execute_result"
    }
   ],
   "source": [
    "pd.DataFrame(knn_gs.cv_results_)"
   ]
  },
  {
   "cell_type": "code",
   "execution_count": 175,
   "metadata": {},
   "outputs": [
    {
     "data": {
      "text/plain": [
       "{'n_neighbors': 9}"
      ]
     },
     "execution_count": 175,
     "metadata": {},
     "output_type": "execute_result"
    }
   ],
   "source": [
    "knn_gs.best_params_"
   ]
  },
  {
   "cell_type": "code",
   "execution_count": 176,
   "metadata": {},
   "outputs": [
    {
     "data": {
      "text/plain": [
       "0.9794562474562474"
      ]
     },
     "execution_count": 176,
     "metadata": {},
     "output_type": "execute_result"
    }
   ],
   "source": [
    "knn_gs.best_score_"
   ]
  },
  {
   "cell_type": "code",
   "execution_count": 166,
   "metadata": {},
   "outputs": [],
   "source": [
    "# Cross validation with Decision tree\n",
    "dtree_gs = GridSearchCV(estimator= DecisionTreeClassifier(), param_grid={\"max_depth\": [3, 4, 5, 6, 7]}, cv=KFold(n_splits=5), iid=False)\n",
    "dtree_gs.fit(TCGA, TCGA_class);"
   ]
  },
  {
   "cell_type": "code",
   "execution_count": 167,
   "metadata": {},
   "outputs": [
    {
     "data": {
      "text/html": [
       "<div>\n",
       "<style scoped>\n",
       "    .dataframe tbody tr th:only-of-type {\n",
       "        vertical-align: middle;\n",
       "    }\n",
       "\n",
       "    .dataframe tbody tr th {\n",
       "        vertical-align: top;\n",
       "    }\n",
       "\n",
       "    .dataframe thead th {\n",
       "        text-align: right;\n",
       "    }\n",
       "</style>\n",
       "<table border=\"1\" class=\"dataframe\">\n",
       "  <thead>\n",
       "    <tr style=\"text-align: right;\">\n",
       "      <th></th>\n",
       "      <th>mean_fit_time</th>\n",
       "      <th>std_fit_time</th>\n",
       "      <th>mean_score_time</th>\n",
       "      <th>std_score_time</th>\n",
       "      <th>param_max_depth</th>\n",
       "      <th>params</th>\n",
       "      <th>split0_test_score</th>\n",
       "      <th>split1_test_score</th>\n",
       "      <th>split2_test_score</th>\n",
       "      <th>split3_test_score</th>\n",
       "      <th>split4_test_score</th>\n",
       "      <th>mean_test_score</th>\n",
       "      <th>std_test_score</th>\n",
       "      <th>rank_test_score</th>\n",
       "    </tr>\n",
       "  </thead>\n",
       "  <tbody>\n",
       "    <tr>\n",
       "      <th>0</th>\n",
       "      <td>0.032918</td>\n",
       "      <td>0.003187</td>\n",
       "      <td>0.000995</td>\n",
       "      <td>0.000173</td>\n",
       "      <td>3</td>\n",
       "      <td>{'max_depth': 3}</td>\n",
       "      <td>0.943020</td>\n",
       "      <td>0.957265</td>\n",
       "      <td>0.945714</td>\n",
       "      <td>0.982857</td>\n",
       "      <td>0.957143</td>\n",
       "      <td>0.957200</td>\n",
       "      <td>0.014080</td>\n",
       "      <td>5</td>\n",
       "    </tr>\n",
       "    <tr>\n",
       "      <th>1</th>\n",
       "      <td>0.037387</td>\n",
       "      <td>0.004746</td>\n",
       "      <td>0.000940</td>\n",
       "      <td>0.000090</td>\n",
       "      <td>4</td>\n",
       "      <td>{'max_depth': 4}</td>\n",
       "      <td>0.957265</td>\n",
       "      <td>0.968661</td>\n",
       "      <td>0.957143</td>\n",
       "      <td>0.980000</td>\n",
       "      <td>0.971429</td>\n",
       "      <td>0.966899</td>\n",
       "      <td>0.008755</td>\n",
       "      <td>2</td>\n",
       "    </tr>\n",
       "    <tr>\n",
       "      <th>2</th>\n",
       "      <td>0.037366</td>\n",
       "      <td>0.003978</td>\n",
       "      <td>0.000975</td>\n",
       "      <td>0.000068</td>\n",
       "      <td>5</td>\n",
       "      <td>{'max_depth': 5}</td>\n",
       "      <td>0.948718</td>\n",
       "      <td>0.968661</td>\n",
       "      <td>0.957143</td>\n",
       "      <td>0.977143</td>\n",
       "      <td>0.968571</td>\n",
       "      <td>0.964047</td>\n",
       "      <td>0.009959</td>\n",
       "      <td>4</td>\n",
       "    </tr>\n",
       "    <tr>\n",
       "      <th>3</th>\n",
       "      <td>0.039648</td>\n",
       "      <td>0.005530</td>\n",
       "      <td>0.000954</td>\n",
       "      <td>0.000108</td>\n",
       "      <td>6</td>\n",
       "      <td>{'max_depth': 6}</td>\n",
       "      <td>0.957265</td>\n",
       "      <td>0.971510</td>\n",
       "      <td>0.951429</td>\n",
       "      <td>0.977143</td>\n",
       "      <td>0.985714</td>\n",
       "      <td>0.968612</td>\n",
       "      <td>0.012631</td>\n",
       "      <td>1</td>\n",
       "    </tr>\n",
       "    <tr>\n",
       "      <th>4</th>\n",
       "      <td>0.038744</td>\n",
       "      <td>0.004367</td>\n",
       "      <td>0.000866</td>\n",
       "      <td>0.000030</td>\n",
       "      <td>7</td>\n",
       "      <td>{'max_depth': 7}</td>\n",
       "      <td>0.951567</td>\n",
       "      <td>0.968661</td>\n",
       "      <td>0.957143</td>\n",
       "      <td>0.977143</td>\n",
       "      <td>0.974286</td>\n",
       "      <td>0.965760</td>\n",
       "      <td>0.009863</td>\n",
       "      <td>3</td>\n",
       "    </tr>\n",
       "  </tbody>\n",
       "</table>\n",
       "</div>"
      ],
      "text/plain": [
       "   mean_fit_time  std_fit_time  mean_score_time  std_score_time  \\\n",
       "0       0.032918      0.003187         0.000995        0.000173   \n",
       "1       0.037387      0.004746         0.000940        0.000090   \n",
       "2       0.037366      0.003978         0.000975        0.000068   \n",
       "3       0.039648      0.005530         0.000954        0.000108   \n",
       "4       0.038744      0.004367         0.000866        0.000030   \n",
       "\n",
       "  param_max_depth            params  split0_test_score  split1_test_score  \\\n",
       "0               3  {'max_depth': 3}           0.943020           0.957265   \n",
       "1               4  {'max_depth': 4}           0.957265           0.968661   \n",
       "2               5  {'max_depth': 5}           0.948718           0.968661   \n",
       "3               6  {'max_depth': 6}           0.957265           0.971510   \n",
       "4               7  {'max_depth': 7}           0.951567           0.968661   \n",
       "\n",
       "   split2_test_score  split3_test_score  split4_test_score  mean_test_score  \\\n",
       "0           0.945714           0.982857           0.957143         0.957200   \n",
       "1           0.957143           0.980000           0.971429         0.966899   \n",
       "2           0.957143           0.977143           0.968571         0.964047   \n",
       "3           0.951429           0.977143           0.985714         0.968612   \n",
       "4           0.957143           0.977143           0.974286         0.965760   \n",
       "\n",
       "   std_test_score  rank_test_score  \n",
       "0        0.014080                5  \n",
       "1        0.008755                2  \n",
       "2        0.009959                4  \n",
       "3        0.012631                1  \n",
       "4        0.009863                3  "
      ]
     },
     "execution_count": 167,
     "metadata": {},
     "output_type": "execute_result"
    }
   ],
   "source": [
    "pd.DataFrame(dtree_gs.cv_results_)"
   ]
  },
  {
   "cell_type": "code",
   "execution_count": 168,
   "metadata": {},
   "outputs": [
    {
     "data": {
      "text/plain": [
       "{'max_depth': 6}"
      ]
     },
     "execution_count": 168,
     "metadata": {},
     "output_type": "execute_result"
    }
   ],
   "source": [
    "dtree_gs.best_params_"
   ]
  },
  {
   "cell_type": "code",
   "execution_count": 169,
   "metadata": {},
   "outputs": [
    {
     "data": {
      "text/plain": [
       "0.9686121286121286"
      ]
     },
     "execution_count": 169,
     "metadata": {},
     "output_type": "execute_result"
    }
   ],
   "source": [
    "dtree_gs.best_score_"
   ]
  },
  {
   "cell_type": "markdown",
   "metadata": {},
   "source": [
    "## Future Work"
   ]
  },
  {
   "cell_type": "markdown",
   "metadata": {},
   "source": [
    "* Properly address any correlation between features\n",
    "* Unsupervised learning to see if certain cancer types cluster together"
   ]
  }
 ],
 "metadata": {
  "kernelspec": {
   "display_name": "Python 3",
   "language": "python",
   "name": "python3"
  },
  "language_info": {
   "codemirror_mode": {
    "name": "ipython",
    "version": 3
   },
   "file_extension": ".py",
   "mimetype": "text/x-python",
   "name": "python",
   "nbconvert_exporter": "python",
   "pygments_lexer": "ipython3",
   "version": "3.7.3"
  }
 },
 "nbformat": 4,
 "nbformat_minor": 4
}
