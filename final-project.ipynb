{
 "cells": [
  {
   "cell_type": "markdown",
   "metadata": {},
   "source": [
    "# Pan-cancer Differential Methylation\n"
   ]
  },
  {
   "cell_type": "markdown",
   "metadata": {},
   "source": [
    "## 1) Get your data\n",
    "You may use any data set(s) you like, so long as they meet these criteria:\n",
    "\n",
    "* Your data must be publically available for free.\n",
    "* Your data should be interesting to _you_. You want your final project to be something you're proud of.\n",
    "* Your data should be \"big enough\":\n",
    "    - It should have at least 1,000 rows.\n",
    "    - It should have enough of columns to be interesting.\n",
    "    - If you have questions, contact a member of the instructional team."
   ]
  },
  {
   "cell_type": "markdown",
   "metadata": {},
   "source": [
    "## 2) Provide a link to your data\n",
    "Your data is required to be free and open to anyone.\n",
    "As such, you should have a URL which anyone can use to download your data:"
   ]
  },
  {
   "cell_type": "markdown",
   "metadata": {},
   "source": [
    "For my project I used TCGA methylation data downloaded from the [Genomic Data Commons](https://portal.gdc.cancer.gov)."
   ]
  },
  {
   "cell_type": "markdown",
   "metadata": {},
   "source": [
    "## Problem statement.\n",
    "Below, write a problem statement. Keep in mind that your task is to tease out relationships in your data and eventually build a predictive model. Your problem statement can be vague, but you should have a goal in mind. Your problem statement should be between one sentence and one paragraph."
   ]
  },
  {
   "cell_type": "markdown",
   "metadata": {},
   "source": [
    "The goal of this project is to find a pan-cancer methylation probe"
   ]
  },
  {
   "cell_type": "markdown",
   "metadata": {},
   "source": [
    "## 3) Import your data\n",
    "In the space below, import your data.\n",
    "If your data span multiple files, read them all in.\n",
    "If applicable, merge or append them as needed."
   ]
  },
  {
   "cell_type": "code",
   "execution_count": 78,
   "metadata": {},
   "outputs": [],
   "source": [
    "#importing required packages and functions\n",
    "import pandas as pd\n",
    "import numpy as np\n",
    "import seaborn as sb\n",
    "import matplotlib\n",
    "import matplotlib.pyplot as plt\n",
    "from sklearn.model_selection import train_test_split\n",
    "from sklearn.tree import DecisionTreeClassifier\n",
    "from sklearn.neighbors import KNeighborsClassifier\n",
    "from sklearn.metrics import mean_squared_error"
   ]
  },
  {
   "cell_type": "code",
   "execution_count": 7,
   "metadata": {},
   "outputs": [],
   "source": [
    "#reading in breast cancer data and removing rows with NAs.\n",
    "BRCA = pd.read_csv('BRCA.csv', sep = ',', index_col = 0)\n",
    "BRCA = BRCA.dropna(how = 'all')\n",
    "BRCA_class = pd.read_csv('~/Documents/biof509/final-project/BRCA_class.csv', sep = ',', index_col = 0)['x']\n",
    "BRCA_class.index = BRCA.columns"
   ]
  },
  {
   "cell_type": "code",
   "execution_count": 47,
   "metadata": {},
   "outputs": [],
   "source": [
    "#separating tumors and normals\n",
    "BRCA_normals = BRCA.loc[:,BRCA_class == 0]\n",
    "BRCA_tumors = BRCA.loc[:,BRCA_class == 1]"
   ]
  },
  {
   "cell_type": "code",
   "execution_count": 109,
   "metadata": {},
   "outputs": [],
   "source": [
    "#filtering out rows where absolute difference in methylation is < 0.3 between tumors and normals\n",
    "BRCA = BRCA.loc[(abs(BRCA_normals.mean(axis = 1) - BRCA_tumors.mean(axis = 1)) > 0.35),:]\n",
    "\n",
    "#replacing any remaining NAs with mean for that CpG site and sample type\n",
    "BRCA.loc[:,BRCA_class == 1] = BRCA.loc[:,BRCA_class == 1].fillna(BRCA_tumors.mean())\n",
    "BRCA.loc[:,BRCA_class == 0] = BRCA.loc[:,BRCA_class == 0].fillna(BRCA_normals.mean())"
   ]
  },
  {
   "cell_type": "code",
   "execution_count": 76,
   "metadata": {},
   "outputs": [],
   "source": [
    "#reading in colon cancer data and removing rows with NAs.\n",
    "COAD = pd.read_csv('~/Documents/biof509/final-project/COAD.csv', sep = ',', index_col = 0)\n",
    "COAD = COAD.dropna(how = 'all')\n",
    "COAD_class = pd.read_csv('~/Documents/biof509/final-project/COAD_class.csv', sep = ',', index_col = 0)['x']\n",
    "COAD_class.index = COAD.columns"
   ]
  },
  {
   "cell_type": "code",
   "execution_count": 110,
   "metadata": {},
   "outputs": [],
   "source": [
    "#separating tumors and normals\n",
    "COAD_normals = COAD.loc[:,COAD_class == 0]\n",
    "COAD_tumors = COAD.loc[:,COAD_class == 1]\n",
    "\n",
    "#filtering out rows where absolute difference in methylation is < 0.3 between tumors and normals\n",
    "COAD = COAD.loc[(abs(COAD_normals.mean(axis = 1) - COAD_tumors.mean(axis = 1)) > 0.35),:]\n",
    "\n",
    "#replacing any remaining NAs with mean for that CpG site and sample type\n",
    "COAD.loc[:,COAD_class == 1] = COAD.loc[:,COAD_class == 1].fillna(COAD_tumors.mean())\n",
    "COAD.loc[:,COAD_class == 0] = COAD.loc[:,COAD_class == 0].fillna(COAD_normals.mean())"
   ]
  },
  {
   "cell_type": "code",
   "execution_count": 24,
   "metadata": {},
   "outputs": [],
   "source": [
    "#reading in lung cancer data and removing rows with NAs.\n",
    "LUAD = pd.read_csv('~/Documents/biof509/final-project/LUAD.csv', sep = ',', index_col = 0)\n",
    "LUAD = LUAD.dropna(how = 'all')\n",
    "LUAD_class = pd.read_csv('~/Documents/biof509/final-project/LUAD_class.csv', sep = ',', index_col = 0)['x']\n",
    "LUAD_class.index = LUAD.columns"
   ]
  },
  {
   "cell_type": "code",
   "execution_count": 111,
   "metadata": {},
   "outputs": [],
   "source": [
    "#separating tumors and normals\n",
    "LUAD_normals = LUAD.loc[:,LUAD_class == 0]\n",
    "LUAD_tumors = LUAD.loc[:,LUAD_class == 1]\n",
    "\n",
    "#filtering out rows where absolute difference in methylation is < 0.3 between tumors and normals\n",
    "LUAD = LUAD.loc[(abs(LUAD_normals.mean(axis = 1) - LUAD_tumors.mean(axis = 1)) > 0.35),:]\n",
    "\n",
    "#replacing any remaining NAs with mean for that CpG site and sample type\n",
    "LUAD.loc[:,LUAD_class == 1] = LUAD.loc[:,LUAD_class == 1].fillna(LUAD_tumors.mean())\n",
    "LUAD.loc[:,LUAD_class == 0] = LUAD.loc[:,LUAD_class == 0].fillna(LUAD_normals.mean())"
   ]
  },
  {
   "cell_type": "code",
   "execution_count": 112,
   "metadata": {},
   "outputs": [],
   "source": [
    "#merging breast, colon, and lung cancer data sets together\n",
    "TCGA = BRCA.merge(COAD,left_index = True, right_index=True).merge(LUAD, left_index = True, right_index = True).transpose()\n",
    "TCGA_class = BRCA_class.append(COAD_class).append(LUAD_class)"
   ]
  },
  {
   "cell_type": "markdown",
   "metadata": {},
   "source": [
    "## 4) Show me the head of your data."
   ]
  },
  {
   "cell_type": "code",
   "execution_count": 117,
   "metadata": {},
   "outputs": [
    {
     "data": {
      "text/html": [
       "<div>\n",
       "<style scoped>\n",
       "    .dataframe tbody tr th:only-of-type {\n",
       "        vertical-align: middle;\n",
       "    }\n",
       "\n",
       "    .dataframe tbody tr th {\n",
       "        vertical-align: top;\n",
       "    }\n",
       "\n",
       "    .dataframe thead th {\n",
       "        text-align: right;\n",
       "    }\n",
       "</style>\n",
       "<table border=\"1\" class=\"dataframe\">\n",
       "  <thead>\n",
       "    <tr style=\"text-align: right;\">\n",
       "      <th></th>\n",
       "      <th>cg00295794</th>\n",
       "      <th>cg00396667</th>\n",
       "      <th>cg00459623</th>\n",
       "      <th>cg00557947</th>\n",
       "      <th>cg00817367</th>\n",
       "      <th>cg01419831</th>\n",
       "      <th>cg01518607</th>\n",
       "      <th>cg01688536</th>\n",
       "      <th>cg01890568</th>\n",
       "      <th>cg01893212</th>\n",
       "      <th>...</th>\n",
       "      <th>cg25078444</th>\n",
       "      <th>cg25209842</th>\n",
       "      <th>cg26132774</th>\n",
       "      <th>cg26210445</th>\n",
       "      <th>cg26299169</th>\n",
       "      <th>cg26452868</th>\n",
       "      <th>cg26479667</th>\n",
       "      <th>cg26809635</th>\n",
       "      <th>cg27252696</th>\n",
       "      <th>cg27649239</th>\n",
       "    </tr>\n",
       "  </thead>\n",
       "  <tbody>\n",
       "    <tr>\n",
       "      <th>TCGA-A2-A1FV-01A-11D-A13K-05</th>\n",
       "      <td>0.804098</td>\n",
       "      <td>0.804415</td>\n",
       "      <td>0.027807</td>\n",
       "      <td>0.868798</td>\n",
       "      <td>0.856811</td>\n",
       "      <td>0.821553</td>\n",
       "      <td>0.958562</td>\n",
       "      <td>0.871058</td>\n",
       "      <td>0.090245</td>\n",
       "      <td>0.923317</td>\n",
       "      <td>...</td>\n",
       "      <td>0.933043</td>\n",
       "      <td>0.795875</td>\n",
       "      <td>0.889620</td>\n",
       "      <td>0.917378</td>\n",
       "      <td>0.289994</td>\n",
       "      <td>0.943062</td>\n",
       "      <td>0.090924</td>\n",
       "      <td>0.811636</td>\n",
       "      <td>0.813934</td>\n",
       "      <td>0.850434</td>\n",
       "    </tr>\n",
       "    <tr>\n",
       "      <th>TCGA-A2-A1FW-01A-11D-A13K-05</th>\n",
       "      <td>0.903405</td>\n",
       "      <td>0.869170</td>\n",
       "      <td>0.717580</td>\n",
       "      <td>0.912815</td>\n",
       "      <td>0.935425</td>\n",
       "      <td>0.663264</td>\n",
       "      <td>0.948987</td>\n",
       "      <td>0.842029</td>\n",
       "      <td>0.397586</td>\n",
       "      <td>0.934050</td>\n",
       "      <td>...</td>\n",
       "      <td>0.939458</td>\n",
       "      <td>0.864307</td>\n",
       "      <td>0.915645</td>\n",
       "      <td>0.946833</td>\n",
       "      <td>0.511710</td>\n",
       "      <td>0.953965</td>\n",
       "      <td>0.038638</td>\n",
       "      <td>0.875273</td>\n",
       "      <td>0.786037</td>\n",
       "      <td>0.918238</td>\n",
       "    </tr>\n",
       "    <tr>\n",
       "      <th>TCGA-A2-A1FX-01A-11D-A13K-05</th>\n",
       "      <td>0.623872</td>\n",
       "      <td>0.718047</td>\n",
       "      <td>0.127058</td>\n",
       "      <td>0.333769</td>\n",
       "      <td>0.799612</td>\n",
       "      <td>0.427485</td>\n",
       "      <td>0.768805</td>\n",
       "      <td>0.207609</td>\n",
       "      <td>0.288757</td>\n",
       "      <td>0.758299</td>\n",
       "      <td>...</td>\n",
       "      <td>0.762585</td>\n",
       "      <td>0.624512</td>\n",
       "      <td>0.445409</td>\n",
       "      <td>0.755683</td>\n",
       "      <td>0.560186</td>\n",
       "      <td>0.829776</td>\n",
       "      <td>0.170291</td>\n",
       "      <td>0.689439</td>\n",
       "      <td>0.650224</td>\n",
       "      <td>0.745432</td>\n",
       "    </tr>\n",
       "    <tr>\n",
       "      <th>TCGA-A2-A1G0-01A-11D-A13K-05</th>\n",
       "      <td>0.566034</td>\n",
       "      <td>0.770583</td>\n",
       "      <td>0.018983</td>\n",
       "      <td>0.048856</td>\n",
       "      <td>0.041081</td>\n",
       "      <td>0.049035</td>\n",
       "      <td>0.732891</td>\n",
       "      <td>0.468389</td>\n",
       "      <td>0.273484</td>\n",
       "      <td>0.255730</td>\n",
       "      <td>...</td>\n",
       "      <td>0.423635</td>\n",
       "      <td>0.600893</td>\n",
       "      <td>0.497046</td>\n",
       "      <td>0.563073</td>\n",
       "      <td>0.153297</td>\n",
       "      <td>0.572538</td>\n",
       "      <td>0.258475</td>\n",
       "      <td>0.020553</td>\n",
       "      <td>0.358766</td>\n",
       "      <td>0.129208</td>\n",
       "    </tr>\n",
       "    <tr>\n",
       "      <th>TCGA-A2-A1G1-01A-21D-A13K-05</th>\n",
       "      <td>0.657521</td>\n",
       "      <td>0.538549</td>\n",
       "      <td>0.465221</td>\n",
       "      <td>0.625125</td>\n",
       "      <td>0.652166</td>\n",
       "      <td>0.583487</td>\n",
       "      <td>0.814104</td>\n",
       "      <td>0.446187</td>\n",
       "      <td>0.325014</td>\n",
       "      <td>0.508865</td>\n",
       "      <td>...</td>\n",
       "      <td>0.057779</td>\n",
       "      <td>0.048506</td>\n",
       "      <td>0.693632</td>\n",
       "      <td>0.617121</td>\n",
       "      <td>0.599538</td>\n",
       "      <td>0.795139</td>\n",
       "      <td>0.762259</td>\n",
       "      <td>0.660466</td>\n",
       "      <td>0.044718</td>\n",
       "      <td>0.637309</td>\n",
       "    </tr>\n",
       "  </tbody>\n",
       "</table>\n",
       "<p>5 rows × 100 columns</p>\n",
       "</div>"
      ],
      "text/plain": [
       "                              cg00295794  cg00396667  cg00459623  cg00557947  \\\n",
       "TCGA-A2-A1FV-01A-11D-A13K-05    0.804098    0.804415    0.027807    0.868798   \n",
       "TCGA-A2-A1FW-01A-11D-A13K-05    0.903405    0.869170    0.717580    0.912815   \n",
       "TCGA-A2-A1FX-01A-11D-A13K-05    0.623872    0.718047    0.127058    0.333769   \n",
       "TCGA-A2-A1G0-01A-11D-A13K-05    0.566034    0.770583    0.018983    0.048856   \n",
       "TCGA-A2-A1G1-01A-21D-A13K-05    0.657521    0.538549    0.465221    0.625125   \n",
       "\n",
       "                              cg00817367  cg01419831  cg01518607  cg01688536  \\\n",
       "TCGA-A2-A1FV-01A-11D-A13K-05    0.856811    0.821553    0.958562    0.871058   \n",
       "TCGA-A2-A1FW-01A-11D-A13K-05    0.935425    0.663264    0.948987    0.842029   \n",
       "TCGA-A2-A1FX-01A-11D-A13K-05    0.799612    0.427485    0.768805    0.207609   \n",
       "TCGA-A2-A1G0-01A-11D-A13K-05    0.041081    0.049035    0.732891    0.468389   \n",
       "TCGA-A2-A1G1-01A-21D-A13K-05    0.652166    0.583487    0.814104    0.446187   \n",
       "\n",
       "                              cg01890568  cg01893212  ...  cg25078444  \\\n",
       "TCGA-A2-A1FV-01A-11D-A13K-05    0.090245    0.923317  ...    0.933043   \n",
       "TCGA-A2-A1FW-01A-11D-A13K-05    0.397586    0.934050  ...    0.939458   \n",
       "TCGA-A2-A1FX-01A-11D-A13K-05    0.288757    0.758299  ...    0.762585   \n",
       "TCGA-A2-A1G0-01A-11D-A13K-05    0.273484    0.255730  ...    0.423635   \n",
       "TCGA-A2-A1G1-01A-21D-A13K-05    0.325014    0.508865  ...    0.057779   \n",
       "\n",
       "                              cg25209842  cg26132774  cg26210445  cg26299169  \\\n",
       "TCGA-A2-A1FV-01A-11D-A13K-05    0.795875    0.889620    0.917378    0.289994   \n",
       "TCGA-A2-A1FW-01A-11D-A13K-05    0.864307    0.915645    0.946833    0.511710   \n",
       "TCGA-A2-A1FX-01A-11D-A13K-05    0.624512    0.445409    0.755683    0.560186   \n",
       "TCGA-A2-A1G0-01A-11D-A13K-05    0.600893    0.497046    0.563073    0.153297   \n",
       "TCGA-A2-A1G1-01A-21D-A13K-05    0.048506    0.693632    0.617121    0.599538   \n",
       "\n",
       "                              cg26452868  cg26479667  cg26809635  cg27252696  \\\n",
       "TCGA-A2-A1FV-01A-11D-A13K-05    0.943062    0.090924    0.811636    0.813934   \n",
       "TCGA-A2-A1FW-01A-11D-A13K-05    0.953965    0.038638    0.875273    0.786037   \n",
       "TCGA-A2-A1FX-01A-11D-A13K-05    0.829776    0.170291    0.689439    0.650224   \n",
       "TCGA-A2-A1G0-01A-11D-A13K-05    0.572538    0.258475    0.020553    0.358766   \n",
       "TCGA-A2-A1G1-01A-21D-A13K-05    0.795139    0.762259    0.660466    0.044718   \n",
       "\n",
       "                              cg27649239  \n",
       "TCGA-A2-A1FV-01A-11D-A13K-05    0.850434  \n",
       "TCGA-A2-A1FW-01A-11D-A13K-05    0.918238  \n",
       "TCGA-A2-A1FX-01A-11D-A13K-05    0.745432  \n",
       "TCGA-A2-A1G0-01A-11D-A13K-05    0.129208  \n",
       "TCGA-A2-A1G1-01A-21D-A13K-05    0.637309  \n",
       "\n",
       "[5 rows x 100 columns]"
      ]
     },
     "execution_count": 117,
     "metadata": {},
     "output_type": "execute_result"
    }
   ],
   "source": [
    "TCGA.head()"
   ]
  },
  {
   "cell_type": "code",
   "execution_count": 55,
   "metadata": {},
   "outputs": [
    {
     "data": {
      "text/plain": [
       "TCGA-A2-A1FV-01A-11D-A13K-05    1\n",
       "TCGA-A2-A1FW-01A-11D-A13K-05    1\n",
       "TCGA-A2-A1FX-01A-11D-A13K-05    1\n",
       "TCGA-A2-A1G0-01A-11D-A13K-05    1\n",
       "TCGA-A2-A1G1-01A-21D-A13K-05    1\n",
       "TCGA-A2-A1G4-01A-11D-A13K-05    1\n",
       "TCGA-A2-A1G6-01A-11D-A13K-05    1\n",
       "TCGA-A7-A13G-01A-11D-A13K-05    1\n",
       "TCGA-A7-A13G-01B-04D-A22R-05    1\n",
       "TCGA-A7-A13G-11A-51D-A13T-05    0\n",
       "TCGA-AO-A1KO-01A-31D-A13K-05    1\n",
       "TCGA-AO-A1KP-01A-11D-A13K-05    1\n",
       "TCGA-AO-A1KQ-01A-11D-A13K-05    1\n",
       "TCGA-AO-A1KS-01A-11D-A13K-05    1\n",
       "TCGA-AO-A1KT-01A-11D-A13K-05    1\n",
       "TCGA-AQ-A1H2-01A-11D-A13K-05    1\n",
       "TCGA-AQ-A1H3-01A-31D-A13K-05    1\n",
       "TCGA-B6-A1KC-01A-11D-A13K-05    1\n",
       "TCGA-B6-A1KC-01B-11D-A161-05    1\n",
       "TCGA-B6-A1KF-01A-11D-A13K-05    1\n",
       "Name: x, dtype: int64"
      ]
     },
     "execution_count": 55,
     "metadata": {},
     "output_type": "execute_result"
    }
   ],
   "source": [
    "TCGA_class.head(20)"
   ]
  },
  {
   "cell_type": "markdown",
   "metadata": {},
   "source": [
    "## 5) Show me the shape of your data"
   ]
  },
  {
   "cell_type": "code",
   "execution_count": 114,
   "metadata": {},
   "outputs": [
    {
     "data": {
      "text/plain": [
       "(1752, 100)"
      ]
     },
     "execution_count": 114,
     "metadata": {},
     "output_type": "execute_result"
    }
   ],
   "source": [
    "TCGA.shape"
   ]
  },
  {
   "cell_type": "markdown",
   "metadata": {},
   "source": [
    "## 6) Show me the proportion of missing observations for each column of your data"
   ]
  },
  {
   "cell_type": "code",
   "execution_count": 62,
   "metadata": {},
   "outputs": [
    {
     "data": {
      "text/plain": [
       "TCGA-A2-A1FV-01A-11D-A13K-05    0.0\n",
       "TCGA-A2-A1FW-01A-11D-A13K-05    0.0\n",
       "TCGA-A2-A1FX-01A-11D-A13K-05    0.0\n",
       "TCGA-A2-A1G0-01A-11D-A13K-05    0.0\n",
       "TCGA-A2-A1G1-01A-21D-A13K-05    0.0\n",
       "TCGA-A2-A1G4-01A-11D-A13K-05    0.0\n",
       "TCGA-A2-A1G6-01A-11D-A13K-05    0.0\n",
       "TCGA-A7-A13G-01A-11D-A13K-05    0.0\n",
       "TCGA-A7-A13G-01B-04D-A22R-05    0.0\n",
       "TCGA-A7-A13G-11A-51D-A13T-05    0.0\n",
       "TCGA-AO-A1KO-01A-31D-A13K-05    0.0\n",
       "TCGA-AO-A1KP-01A-11D-A13K-05    0.0\n",
       "TCGA-AO-A1KQ-01A-11D-A13K-05    0.0\n",
       "TCGA-AO-A1KS-01A-11D-A13K-05    0.0\n",
       "TCGA-AO-A1KT-01A-11D-A13K-05    0.0\n",
       "TCGA-AQ-A1H2-01A-11D-A13K-05    0.0\n",
       "TCGA-AQ-A1H3-01A-31D-A13K-05    0.0\n",
       "TCGA-B6-A1KC-01A-11D-A13K-05    0.0\n",
       "TCGA-B6-A1KC-01B-11D-A161-05    0.0\n",
       "TCGA-B6-A1KF-01A-11D-A13K-05    0.0\n",
       "TCGA-B6-A1KN-01A-11D-A13K-05    0.0\n",
       "TCGA-BH-A1EN-01A-11D-A13K-05    0.0\n",
       "TCGA-BH-A1EN-11A-23D-A13T-05    0.0\n",
       "TCGA-BH-A1EX-01A-11D-A13K-05    0.0\n",
       "TCGA-BH-A1EY-01A-11D-A13K-05    0.0\n",
       "TCGA-BH-A1EY-11B-21D-A13T-05    0.0\n",
       "TCGA-BH-A1F2-01A-31D-A13K-05    0.0\n",
       "TCGA-BH-A1F2-11A-32D-A13T-05    0.0\n",
       "TCGA-BH-A1F5-01A-12D-A13K-05    0.0\n",
       "TCGA-BH-A1F5-11A-43D-A13T-05    0.0\n",
       "                               ... \n",
       "TCGA-55-7816-01A-11D-2168-05    0.0\n",
       "TCGA-55-7903-01A-11D-2168-05    0.0\n",
       "TCGA-55-7907-01A-11D-2168-05    0.0\n",
       "TCGA-55-7910-01A-11D-2168-05    0.0\n",
       "TCGA-55-7911-01A-11D-2168-05    0.0\n",
       "TCGA-55-7914-01A-11D-2168-05    0.0\n",
       "TCGA-69-7760-01A-11D-2168-05    0.0\n",
       "TCGA-69-7761-01A-11D-2168-05    0.0\n",
       "TCGA-69-7763-01A-11D-2168-05    0.0\n",
       "TCGA-69-7764-01A-11D-2168-05    0.0\n",
       "TCGA-69-7765-01A-11D-2168-05    0.0\n",
       "TCGA-86-7701-01A-11D-2168-05    0.0\n",
       "TCGA-86-7714-01A-12D-2168-05    0.0\n",
       "TCGA-91-7771-01A-11D-2168-05    0.0\n",
       "TCGA-97-7937-01A-11D-2168-05    0.0\n",
       "TCGA-97-7938-01A-11D-2168-05    0.0\n",
       "TCGA-50-8457-01A-11D-2324-05    0.0\n",
       "TCGA-50-8459-01A-11D-2324-05    0.0\n",
       "TCGA-50-8460-01A-11D-2324-05    0.0\n",
       "TCGA-55-8302-01A-11D-2324-05    0.0\n",
       "TCGA-62-8394-01A-11D-2324-05    0.0\n",
       "TCGA-62-8395-01A-11D-2324-05    0.0\n",
       "TCGA-62-8397-01A-11D-2324-05    0.0\n",
       "TCGA-62-8398-01A-11D-2324-05    0.0\n",
       "TCGA-62-8399-01A-21D-2324-05    0.0\n",
       "TCGA-62-8402-01A-11D-2324-05    0.0\n",
       "TCGA-69-8453-01A-12D-2324-05    0.0\n",
       "TCGA-86-8358-01A-11D-2324-05    0.0\n",
       "TCGA-86-8359-01A-11D-2324-05    0.0\n",
       "TCGA-95-8494-01A-11D-2324-05    0.0\n",
       "Length: 1752, dtype: float64"
      ]
     },
     "execution_count": 62,
     "metadata": {},
     "output_type": "execute_result"
    }
   ],
   "source": [
    "TCGA.isna().sum(axis = 1)/TCGA.shape[0]"
   ]
  },
  {
   "cell_type": "code",
   "execution_count": 113,
   "metadata": {},
   "outputs": [
    {
     "data": {
      "image/png": "[encoded data removed]",
      "text/plain": [
       "<Figure size 432x288 with 1 Axes>"
      ]
     },
     "metadata": {
      "needs_background": "light"
     },
     "output_type": "display_data"
    }
   ],
   "source": [
    "#plotting distribution of normal samples\n",
    "plt.hist(TCGA.loc[TCGA_class == 0,:], range = (0,1), facecolor = 'blue');"
   ]
  },
  {
   "cell_type": "code",
   "execution_count": 115,
   "metadata": {},
   "outputs": [
    {
     "data": {
      "image/png": "[encoded data removed]",
      "text/plain": [
       "<Figure size 432x288 with 1 Axes>"
      ]
     },
     "metadata": {
      "needs_background": "light"
     },
     "output_type": "display_data"
    }
   ],
   "source": [
    "#plotting distribution of tumor samples\n",
    "plt.hist(TCGA.loc[TCGA_class == 1,:], range = (0,1), facecolor = 'red');"
   ]
  },
  {
   "cell_type": "markdown",
   "metadata": {},
   "source": [
    "## 8) What is your _y_-variable?\n",
    "For final project, you will need to perform a statistical model. This means you will have to accurately predict some y-variable for some combination of x-variables. From your problem statement in part 7, what is that y-variable?"
   ]
  },
  {
   "cell_type": "markdown",
   "metadata": {},
   "source": [
    "For my project, the y variable is the sample type, which is either tumor or normal (represented as 1 and 0, respectively)."
   ]
  },
  {
   "cell_type": "code",
   "execution_count": 65,
   "metadata": {},
   "outputs": [],
   "source": [
    "X_train, X_test, y_train, y_test = train_test_split(TCGA, TCGA_class, test_size=0.25, random_state=21)"
   ]
  },
  {
   "cell_type": "code",
   "execution_count": 66,
   "metadata": {},
   "outputs": [
    {
     "data": {
      "text/plain": [
       "(438, 365)"
      ]
     },
     "execution_count": 66,
     "metadata": {},
     "output_type": "execute_result"
    }
   ],
   "source": [
    "X_test.shape"
   ]
  },
  {
   "cell_type": "code",
   "execution_count": 69,
   "metadata": {},
   "outputs": [],
   "source": [
    "y_predicted = DecisionTreeClassifier(max_depth = 5).fit(X_train, y_train).predict(X_test)"
   ]
  },
  {
   "cell_type": "code",
   "execution_count": 70,
   "metadata": {},
   "outputs": [
    {
     "data": {
      "text/plain": [
       "0.0228310502283105"
      ]
     },
     "execution_count": 70,
     "metadata": {},
     "output_type": "execute_result"
    }
   ],
   "source": [
    "mean_squared_error(y_test, y_predicted)"
   ]
  },
  {
   "cell_type": "code",
   "execution_count": 71,
   "metadata": {},
   "outputs": [],
   "source": [
    "y_predicted = KNeighborsClassifier(n_neighbors=3).fit(X_train, y_train).predict(X_test)"
   ]
  },
  {
   "cell_type": "code",
   "execution_count": 72,
   "metadata": {},
   "outputs": [
    {
     "data": {
      "text/plain": [
       "0.0228310502283105"
      ]
     },
     "execution_count": 72,
     "metadata": {},
     "output_type": "execute_result"
    }
   ],
   "source": [
    "mean_squared_error(y_test, y_predicted)"
   ]
  },
  {
   "cell_type": "code",
   "execution_count": 73,
   "metadata": {},
   "outputs": [
    {
     "data": {
      "text/plain": [
       "array([1, 0, 1, 1, 1, 1, 1, 1, 1, 1, 1, 1, 1, 1, 1, 1, 1, 1, 1, 1, 1, 0,\n",
       "       1, 1, 1, 1, 1, 1, 1, 1, 0, 1, 1, 1, 1, 0, 1, 1, 1, 1, 1, 1, 1, 0,\n",
       "       1, 1, 1, 1, 1, 1, 1, 1, 1, 1, 1, 0, 1, 1, 1, 1, 0, 1, 1, 1, 1, 0,\n",
       "       1, 0, 1, 1, 0, 1, 1, 1, 1, 0, 1, 1, 1, 0, 1, 1, 1, 1, 1, 1, 1, 1,\n",
       "       1, 1, 1, 0, 1, 1, 1, 1, 1, 1, 1, 1, 1, 1, 1, 1, 1, 1, 1, 1, 0, 1,\n",
       "       1, 1, 1, 1, 1, 1, 1, 1, 1, 0, 1, 1, 1, 1, 1, 1, 1, 1, 0, 1, 1, 1,\n",
       "       1, 1, 1, 1, 1, 1, 1, 1, 1, 1, 1, 0, 1, 1, 1, 1, 1, 1, 1, 1, 1, 1,\n",
       "       1, 1, 0, 1, 1, 1, 1, 1, 1, 1, 1, 0, 1, 1, 1, 1, 0, 1, 1, 1, 1, 1,\n",
       "       1, 1, 1, 1, 1, 1, 1, 1, 1, 1, 1, 1, 1, 1, 1, 1, 1, 1, 1, 1, 1, 1,\n",
       "       1, 1, 1, 1, 1, 1, 1, 1, 1, 1, 1, 1, 0, 1, 1, 1, 1, 1, 1, 1, 1, 1,\n",
       "       1, 1, 1, 1, 1, 1, 1, 1, 1, 1, 1, 1, 0, 1, 1, 0, 1, 1, 1, 1, 0, 1,\n",
       "       1, 1, 1, 1, 1, 1, 1, 1, 1, 1, 1, 1, 1, 1, 1, 1, 1, 1, 1, 0, 1, 1,\n",
       "       1, 1, 1, 1, 1, 1, 1, 1, 1, 1, 1, 0, 1, 1, 1, 1, 1, 1, 1, 0, 1, 1,\n",
       "       1, 1, 1, 0, 1, 1, 0, 1, 1, 1, 1, 1, 1, 1, 1, 1, 1, 1, 1, 1, 1, 1,\n",
       "       1, 1, 1, 1, 1, 1, 1, 1, 1, 1, 1, 1, 1, 1, 1, 1, 0, 1, 1, 1, 1, 1,\n",
       "       1, 1, 1, 1, 1, 0, 1, 1, 1, 1, 0, 1, 1, 1, 1, 1, 1, 1, 1, 0, 1, 1,\n",
       "       1, 1, 1, 1, 1, 1, 1, 1, 1, 1, 1, 1, 1, 1, 1, 1, 1, 1, 1, 1, 1, 1,\n",
       "       0, 0, 1, 1, 0, 1, 1, 1, 0, 0, 1, 1, 1, 1, 1, 1, 1, 0, 0, 1, 0, 0,\n",
       "       1, 1, 1, 0, 1, 1, 1, 1, 0, 1, 1, 1, 1, 1, 0, 1, 1, 1, 0, 1, 0, 1,\n",
       "       1, 1, 1, 1, 1, 1, 1, 0, 1, 1, 1, 1, 1, 1, 1, 1, 1, 1, 1, 0])"
      ]
     },
     "execution_count": 73,
     "metadata": {},
     "output_type": "execute_result"
    }
   ],
   "source": [
    "y_predicted"
   ]
  },
  {
   "cell_type": "code",
   "execution_count": 74,
   "metadata": {},
   "outputs": [
    {
     "data": {
      "text/plain": [
       "0.9771689497716894"
      ]
     },
     "execution_count": 74,
     "metadata": {},
     "output_type": "execute_result"
    }
   ],
   "source": [
    "(y_predicted == y_test).sum()/y_test.shape[0]"
   ]
  },
  {
   "cell_type": "code",
   "execution_count": null,
   "metadata": {},
   "outputs": [],
   "source": []
  }
 ],
 "metadata": {
  "kernelspec": {
   "display_name": "Python 3",
   "language": "python",
   "name": "python3"
  },
  "language_info": {
   "codemirror_mode": {
    "name": "ipython",
    "version": 3
   },
   "file_extension": ".py",
   "mimetype": "text/x-python",
   "name": "python",
   "nbconvert_exporter": "python",
   "pygments_lexer": "ipython3",
   "version": "3.7.3"
  }
 },
 "nbformat": 4,
 "nbformat_minor": 4
}
