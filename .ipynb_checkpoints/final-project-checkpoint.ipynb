{
 "cells": [
  {
   "cell_type": "markdown",
   "metadata": {},
   "source": [
    "# Pan-cancer Differential Methylation\n"
   ]
  },
  {
   "cell_type": "markdown",
   "metadata": {},
   "source": [
    "## 1) Get your data\n",
    "You may use any data set(s) you like, so long as they meet these criteria:\n",
    "\n",
    "* Your data must be publically available for free.\n",
    "* Your data should be interesting to _you_. You want your final project to be something you're proud of.\n",
    "* Your data should be \"big enough\":\n",
    "    - It should have at least 1,000 rows.\n",
    "    - It should have enough of columns to be interesting.\n",
    "    - If you have questions, contact a member of the instructional team."
   ]
  },
  {
   "cell_type": "markdown",
   "metadata": {},
   "source": [
    "## 2) Provide a link to your data\n",
    "Your data is required to be free and open to anyone.\n",
    "As such, you should have a URL which anyone can use to download your data:"
   ]
  },
  {
   "cell_type": "markdown",
   "metadata": {},
   "source": [
    "For my project I used TCGA methylation data downloaded from the [Genomic Data Commons](https://portal.gdc.cancer.gov)."
   ]
  },
  {
   "cell_type": "markdown",
   "metadata": {},
   "source": [
    "## Problem statement.\n",
    "Below, write a problem statement. Keep in mind that your task is to tease out relationships in your data and eventually build a predictive model. Your problem statement can be vague, but you should have a goal in mind. Your problem statement should be between one sentence and one paragraph."
   ]
  },
  {
   "cell_type": "markdown",
   "metadata": {},
   "source": [
    "The goal of this project is to find a pan-cancer methylation probe"
   ]
  },
  {
   "cell_type": "markdown",
   "metadata": {},
   "source": [
    "## 3) Import your data\n",
    "In the space below, import your data.\n",
    "If your data span multiple files, read them all in.\n",
    "If applicable, merge or append them as needed."
   ]
  },
  {
   "cell_type": "code",
   "execution_count": 75,
   "metadata": {},
   "outputs": [],
   "source": [
    "#importing required packages and functions\n",
    "import pandas as pd\n",
    "import numpy as np\n",
    "import seaborn as sb\n",
    "import matplotlib\n",
    "import matplotlib.pyplot as plt\n",
    "from sklearn.model_selection import train_test_split\n",
    "from sklearn.tree import DecisionTreeClassifier\n",
    "from sklearn.neighbors import KNeighborsClassifier\n",
    "from sklearn.metrics import mean_squared_error"
   ]
  },
  {
   "cell_type": "code",
   "execution_count": 7,
   "metadata": {},
   "outputs": [],
   "source": [
    "#reading in breast cancer data and removing rows with NAs.\n",
    "BRCA = pd.read_csv('BRCA.csv', sep = ',', index_col = 0)\n",
    "BRCA = BRCA.dropna(how = 'all')\n",
    "BRCA_class = pd.read_csv('~/Documents/biof509/final-project/BRCA_class.csv', sep = ',', index_col = 0)['x']\n",
    "BRCA_class.index = BRCA.columns"
   ]
  },
  {
   "cell_type": "code",
   "execution_count": 47,
   "metadata": {},
   "outputs": [],
   "source": [
    "#separating tumors and normals\n",
    "BRCA_normals = BRCA.loc[:,BRCA_class == 0]\n",
    "BRCA_tumors = BRCA.loc[:,BRCA_class == 1]"
   ]
  },
  {
   "cell_type": "code",
   "execution_count": 48,
   "metadata": {},
   "outputs": [],
   "source": [
    "#filtering out rows where absolute difference in methylation is < 0.3 between tumors and normals\n",
    "BRCA = BRCA.loc[(abs(BRCA_normals.mean(axis = 1) - BRCA_tumors.mean(axis = 1)) > 0.3),:]\n",
    "\n",
    "#replacing any remaining NAs with mean for that CpG site and sample type\n",
    "BRCA.loc[:,BRCA_class == 1] = BRCA.loc[:,BRCA_class == 1].fillna(BRCA_tumors.mean())\n",
    "BRCA.loc[:,BRCA_class == 0] = BRCA.loc[:,BRCA_class == 0].fillna(BRCA_normals.mean())"
   ]
  },
  {
   "cell_type": "code",
   "execution_count": 49,
   "metadata": {
    "collapsed": true,
    "jupyter": {
     "outputs_hidden": true
    }
   },
   "outputs": [
    {
     "ename": "FileNotFoundError",
     "evalue": "[Errno 2] File b'/Users/funderburkkm/Documents/biof509/final-project/COAD.csv' does not exist: b'/Users/funderburkkm/Documents/biof509/final-project/COAD.csv'",
     "output_type": "error",
     "traceback": [
      "\u001b[0;31m---------------------------------------------------------------------------\u001b[0m",
      "\u001b[0;31mFileNotFoundError\u001b[0m                         Traceback (most recent call last)",
      "\u001b[0;32m<ipython-input-49-a35c98fc63bf>\u001b[0m in \u001b[0;36m<module>\u001b[0;34m\u001b[0m\n\u001b[1;32m      1\u001b[0m \u001b[0;31m#reading in colon cancer data and removing rows with NAs.\u001b[0m\u001b[0;34m\u001b[0m\u001b[0;34m\u001b[0m\u001b[0;34m\u001b[0m\u001b[0m\n\u001b[0;32m----> 2\u001b[0;31m \u001b[0mCOAD\u001b[0m \u001b[0;34m=\u001b[0m \u001b[0mpd\u001b[0m\u001b[0;34m.\u001b[0m\u001b[0mread_csv\u001b[0m\u001b[0;34m(\u001b[0m\u001b[0;34m'~/Documents/biof509/final-project/COAD.csv'\u001b[0m\u001b[0;34m,\u001b[0m \u001b[0msep\u001b[0m \u001b[0;34m=\u001b[0m \u001b[0;34m','\u001b[0m\u001b[0;34m,\u001b[0m \u001b[0mindex_col\u001b[0m \u001b[0;34m=\u001b[0m \u001b[0;36m0\u001b[0m\u001b[0;34m)\u001b[0m\u001b[0;34m\u001b[0m\u001b[0;34m\u001b[0m\u001b[0m\n\u001b[0m\u001b[1;32m      3\u001b[0m \u001b[0mCOAD\u001b[0m \u001b[0;34m=\u001b[0m \u001b[0mCOAD\u001b[0m\u001b[0;34m.\u001b[0m\u001b[0mdropna\u001b[0m\u001b[0;34m(\u001b[0m\u001b[0mhow\u001b[0m \u001b[0;34m=\u001b[0m \u001b[0;34m'all'\u001b[0m\u001b[0;34m)\u001b[0m\u001b[0;34m\u001b[0m\u001b[0;34m\u001b[0m\u001b[0m\n\u001b[1;32m      4\u001b[0m \u001b[0mCOAD_class\u001b[0m \u001b[0;34m=\u001b[0m \u001b[0mpd\u001b[0m\u001b[0;34m.\u001b[0m\u001b[0mread_csv\u001b[0m\u001b[0;34m(\u001b[0m\u001b[0;34m'~/Documents/biof509/final-project/COAD_class.csv'\u001b[0m\u001b[0;34m,\u001b[0m \u001b[0msep\u001b[0m \u001b[0;34m=\u001b[0m \u001b[0;34m','\u001b[0m\u001b[0;34m,\u001b[0m \u001b[0mindex_col\u001b[0m \u001b[0;34m=\u001b[0m \u001b[0;36m0\u001b[0m\u001b[0;34m)\u001b[0m\u001b[0;34m[\u001b[0m\u001b[0;34m'x'\u001b[0m\u001b[0;34m]\u001b[0m\u001b[0;34m\u001b[0m\u001b[0;34m\u001b[0m\u001b[0m\n\u001b[1;32m      5\u001b[0m \u001b[0mCOAD_class\u001b[0m\u001b[0;34m.\u001b[0m\u001b[0mindex\u001b[0m \u001b[0;34m=\u001b[0m \u001b[0mCOAD\u001b[0m\u001b[0;34m.\u001b[0m\u001b[0mcolumns\u001b[0m\u001b[0;34m\u001b[0m\u001b[0;34m\u001b[0m\u001b[0m\n",
      "\u001b[0;32m//anaconda3/lib/python3.7/site-packages/pandas/io/parsers.py\u001b[0m in \u001b[0;36mparser_f\u001b[0;34m(filepath_or_buffer, sep, delimiter, header, names, index_col, usecols, squeeze, prefix, mangle_dupe_cols, dtype, engine, converters, true_values, false_values, skipinitialspace, skiprows, skipfooter, nrows, na_values, keep_default_na, na_filter, verbose, skip_blank_lines, parse_dates, infer_datetime_format, keep_date_col, date_parser, dayfirst, iterator, chunksize, compression, thousands, decimal, lineterminator, quotechar, quoting, doublequote, escapechar, comment, encoding, dialect, tupleize_cols, error_bad_lines, warn_bad_lines, delim_whitespace, low_memory, memory_map, float_precision)\u001b[0m\n\u001b[1;32m    700\u001b[0m                     skip_blank_lines=skip_blank_lines)\n\u001b[1;32m    701\u001b[0m \u001b[0;34m\u001b[0m\u001b[0m\n\u001b[0;32m--> 702\u001b[0;31m         \u001b[0;32mreturn\u001b[0m \u001b[0m_read\u001b[0m\u001b[0;34m(\u001b[0m\u001b[0mfilepath_or_buffer\u001b[0m\u001b[0;34m,\u001b[0m \u001b[0mkwds\u001b[0m\u001b[0;34m)\u001b[0m\u001b[0;34m\u001b[0m\u001b[0;34m\u001b[0m\u001b[0m\n\u001b[0m\u001b[1;32m    703\u001b[0m \u001b[0;34m\u001b[0m\u001b[0m\n\u001b[1;32m    704\u001b[0m     \u001b[0mparser_f\u001b[0m\u001b[0;34m.\u001b[0m\u001b[0m__name__\u001b[0m \u001b[0;34m=\u001b[0m \u001b[0mname\u001b[0m\u001b[0;34m\u001b[0m\u001b[0;34m\u001b[0m\u001b[0m\n",
      "\u001b[0;32m//anaconda3/lib/python3.7/site-packages/pandas/io/parsers.py\u001b[0m in \u001b[0;36m_read\u001b[0;34m(filepath_or_buffer, kwds)\u001b[0m\n\u001b[1;32m    427\u001b[0m \u001b[0;34m\u001b[0m\u001b[0m\n\u001b[1;32m    428\u001b[0m     \u001b[0;31m# Create the parser.\u001b[0m\u001b[0;34m\u001b[0m\u001b[0;34m\u001b[0m\u001b[0;34m\u001b[0m\u001b[0m\n\u001b[0;32m--> 429\u001b[0;31m     \u001b[0mparser\u001b[0m \u001b[0;34m=\u001b[0m \u001b[0mTextFileReader\u001b[0m\u001b[0;34m(\u001b[0m\u001b[0mfilepath_or_buffer\u001b[0m\u001b[0;34m,\u001b[0m \u001b[0;34m**\u001b[0m\u001b[0mkwds\u001b[0m\u001b[0;34m)\u001b[0m\u001b[0;34m\u001b[0m\u001b[0;34m\u001b[0m\u001b[0m\n\u001b[0m\u001b[1;32m    430\u001b[0m \u001b[0;34m\u001b[0m\u001b[0m\n\u001b[1;32m    431\u001b[0m     \u001b[0;32mif\u001b[0m \u001b[0mchunksize\u001b[0m \u001b[0;32mor\u001b[0m \u001b[0miterator\u001b[0m\u001b[0;34m:\u001b[0m\u001b[0;34m\u001b[0m\u001b[0;34m\u001b[0m\u001b[0m\n",
      "\u001b[0;32m//anaconda3/lib/python3.7/site-packages/pandas/io/parsers.py\u001b[0m in \u001b[0;36m__init__\u001b[0;34m(self, f, engine, **kwds)\u001b[0m\n\u001b[1;32m    893\u001b[0m             \u001b[0mself\u001b[0m\u001b[0;34m.\u001b[0m\u001b[0moptions\u001b[0m\u001b[0;34m[\u001b[0m\u001b[0;34m'has_index_names'\u001b[0m\u001b[0;34m]\u001b[0m \u001b[0;34m=\u001b[0m \u001b[0mkwds\u001b[0m\u001b[0;34m[\u001b[0m\u001b[0;34m'has_index_names'\u001b[0m\u001b[0;34m]\u001b[0m\u001b[0;34m\u001b[0m\u001b[0;34m\u001b[0m\u001b[0m\n\u001b[1;32m    894\u001b[0m \u001b[0;34m\u001b[0m\u001b[0m\n\u001b[0;32m--> 895\u001b[0;31m         \u001b[0mself\u001b[0m\u001b[0;34m.\u001b[0m\u001b[0m_make_engine\u001b[0m\u001b[0;34m(\u001b[0m\u001b[0mself\u001b[0m\u001b[0;34m.\u001b[0m\u001b[0mengine\u001b[0m\u001b[0;34m)\u001b[0m\u001b[0;34m\u001b[0m\u001b[0;34m\u001b[0m\u001b[0m\n\u001b[0m\u001b[1;32m    896\u001b[0m \u001b[0;34m\u001b[0m\u001b[0m\n\u001b[1;32m    897\u001b[0m     \u001b[0;32mdef\u001b[0m \u001b[0mclose\u001b[0m\u001b[0;34m(\u001b[0m\u001b[0mself\u001b[0m\u001b[0;34m)\u001b[0m\u001b[0;34m:\u001b[0m\u001b[0;34m\u001b[0m\u001b[0;34m\u001b[0m\u001b[0m\n",
      "\u001b[0;32m//anaconda3/lib/python3.7/site-packages/pandas/io/parsers.py\u001b[0m in \u001b[0;36m_make_engine\u001b[0;34m(self, engine)\u001b[0m\n\u001b[1;32m   1120\u001b[0m     \u001b[0;32mdef\u001b[0m \u001b[0m_make_engine\u001b[0m\u001b[0;34m(\u001b[0m\u001b[0mself\u001b[0m\u001b[0;34m,\u001b[0m \u001b[0mengine\u001b[0m\u001b[0;34m=\u001b[0m\u001b[0;34m'c'\u001b[0m\u001b[0;34m)\u001b[0m\u001b[0;34m:\u001b[0m\u001b[0;34m\u001b[0m\u001b[0;34m\u001b[0m\u001b[0m\n\u001b[1;32m   1121\u001b[0m         \u001b[0;32mif\u001b[0m \u001b[0mengine\u001b[0m \u001b[0;34m==\u001b[0m \u001b[0;34m'c'\u001b[0m\u001b[0;34m:\u001b[0m\u001b[0;34m\u001b[0m\u001b[0;34m\u001b[0m\u001b[0m\n\u001b[0;32m-> 1122\u001b[0;31m             \u001b[0mself\u001b[0m\u001b[0;34m.\u001b[0m\u001b[0m_engine\u001b[0m \u001b[0;34m=\u001b[0m \u001b[0mCParserWrapper\u001b[0m\u001b[0;34m(\u001b[0m\u001b[0mself\u001b[0m\u001b[0;34m.\u001b[0m\u001b[0mf\u001b[0m\u001b[0;34m,\u001b[0m \u001b[0;34m**\u001b[0m\u001b[0mself\u001b[0m\u001b[0;34m.\u001b[0m\u001b[0moptions\u001b[0m\u001b[0;34m)\u001b[0m\u001b[0;34m\u001b[0m\u001b[0;34m\u001b[0m\u001b[0m\n\u001b[0m\u001b[1;32m   1123\u001b[0m         \u001b[0;32melse\u001b[0m\u001b[0;34m:\u001b[0m\u001b[0;34m\u001b[0m\u001b[0;34m\u001b[0m\u001b[0m\n\u001b[1;32m   1124\u001b[0m             \u001b[0;32mif\u001b[0m \u001b[0mengine\u001b[0m \u001b[0;34m==\u001b[0m \u001b[0;34m'python'\u001b[0m\u001b[0;34m:\u001b[0m\u001b[0;34m\u001b[0m\u001b[0;34m\u001b[0m\u001b[0m\n",
      "\u001b[0;32m//anaconda3/lib/python3.7/site-packages/pandas/io/parsers.py\u001b[0m in \u001b[0;36m__init__\u001b[0;34m(self, src, **kwds)\u001b[0m\n\u001b[1;32m   1851\u001b[0m         \u001b[0mkwds\u001b[0m\u001b[0;34m[\u001b[0m\u001b[0;34m'usecols'\u001b[0m\u001b[0;34m]\u001b[0m \u001b[0;34m=\u001b[0m \u001b[0mself\u001b[0m\u001b[0;34m.\u001b[0m\u001b[0musecols\u001b[0m\u001b[0;34m\u001b[0m\u001b[0;34m\u001b[0m\u001b[0m\n\u001b[1;32m   1852\u001b[0m \u001b[0;34m\u001b[0m\u001b[0m\n\u001b[0;32m-> 1853\u001b[0;31m         \u001b[0mself\u001b[0m\u001b[0;34m.\u001b[0m\u001b[0m_reader\u001b[0m \u001b[0;34m=\u001b[0m \u001b[0mparsers\u001b[0m\u001b[0;34m.\u001b[0m\u001b[0mTextReader\u001b[0m\u001b[0;34m(\u001b[0m\u001b[0msrc\u001b[0m\u001b[0;34m,\u001b[0m \u001b[0;34m**\u001b[0m\u001b[0mkwds\u001b[0m\u001b[0;34m)\u001b[0m\u001b[0;34m\u001b[0m\u001b[0;34m\u001b[0m\u001b[0m\n\u001b[0m\u001b[1;32m   1854\u001b[0m         \u001b[0mself\u001b[0m\u001b[0;34m.\u001b[0m\u001b[0munnamed_cols\u001b[0m \u001b[0;34m=\u001b[0m \u001b[0mself\u001b[0m\u001b[0;34m.\u001b[0m\u001b[0m_reader\u001b[0m\u001b[0;34m.\u001b[0m\u001b[0munnamed_cols\u001b[0m\u001b[0;34m\u001b[0m\u001b[0;34m\u001b[0m\u001b[0m\n\u001b[1;32m   1855\u001b[0m \u001b[0;34m\u001b[0m\u001b[0m\n",
      "\u001b[0;32mpandas/_libs/parsers.pyx\u001b[0m in \u001b[0;36mpandas._libs.parsers.TextReader.__cinit__\u001b[0;34m()\u001b[0m\n",
      "\u001b[0;32mpandas/_libs/parsers.pyx\u001b[0m in \u001b[0;36mpandas._libs.parsers.TextReader._setup_parser_source\u001b[0;34m()\u001b[0m\n",
      "\u001b[0;31mFileNotFoundError\u001b[0m: [Errno 2] File b'/Users/funderburkkm/Documents/biof509/final-project/COAD.csv' does not exist: b'/Users/funderburkkm/Documents/biof509/final-project/COAD.csv'"
     ]
    }
   ],
   "source": [
    "#reading in colon cancer data and removing rows with NAs.\n",
    "COAD = pd.read_csv('~/Documents/biof509/final-project/COAD.csv', sep = ',', index_col = 0)\n",
    "COAD = COAD.dropna(how = 'all')\n",
    "COAD_class = pd.read_csv('~/Documents/biof509/final-project/COAD_class.csv', sep = ',', index_col = 0)['x']\n",
    "COAD_class.index = COAD.columns"
   ]
  },
  {
   "cell_type": "code",
   "execution_count": 51,
   "metadata": {},
   "outputs": [],
   "source": [
    "#separating tumors and normals\n",
    "COAD_normals = COAD.loc[:,COAD_class == 0]\n",
    "COAD_tumors = COAD.loc[:,COAD_class == 1]\n",
    "\n",
    "#filtering out rows where absolute difference in methylation is < 0.3 between tumors and normals\n",
    "COAD = COAD.loc[(abs(COAD_normals.mean(axis = 1) - COAD_tumors.mean(axis = 1)) > 0.3),:]\n",
    "\n",
    "#replacing any remaining NAs with mean for that CpG site and sample type\n",
    "COAD.loc[:,COAD_class == 1] = COAD.loc[:,COAD_class == 1].fillna(COAD_tumors.mean())\n",
    "COAD.loc[:,COAD_class == 0] = COAD.loc[:,COAD_class == 0].fillna(COAD_normals.mean())"
   ]
  },
  {
   "cell_type": "code",
   "execution_count": 24,
   "metadata": {},
   "outputs": [],
   "source": [
    "#reading in lung cancer data and removing rows with NAs.\n",
    "LUAD = pd.read_csv('~/Documents/biof509/final-project/LUAD.csv', sep = ',', index_col = 0)\n",
    "LUAD = LUAD.dropna(how = 'all')\n",
    "LUAD_class = pd.read_csv('~/Documents/biof509/final-project/LUAD_class.csv', sep = ',', index_col = 0)['x']\n",
    "LUAD_class.index = LUAD.columns"
   ]
  },
  {
   "cell_type": "code",
   "execution_count": 52,
   "metadata": {},
   "outputs": [],
   "source": [
    "#separating tumors and normals\n",
    "LUAD_normals = LUAD.loc[:,LUAD_class == 0]\n",
    "LUAD_tumors = LUAD.loc[:,LUAD_class == 1]\n",
    "\n",
    "#filtering out rows where absolute difference in methylation is < 0.3 between tumors and normals\n",
    "LUAD = LUAD.loc[(abs(LUAD_normals.mean(axis = 1) - LUAD_tumors.mean(axis = 1)) > 0.3),:]\n",
    "\n",
    "#replacing any remaining NAs with mean for that CpG site and sample type\n",
    "LUAD.loc[:,LUAD_class == 1] = LUAD.loc[:,LUAD_class == 1].fillna(LUAD_tumors.mean())\n",
    "LUAD.loc[:,LUAD_class == 0] = LUAD.loc[:,LUAD_class == 0].fillna(LUAD_normals.mean())"
   ]
  },
  {
   "cell_type": "code",
   "execution_count": 53,
   "metadata": {},
   "outputs": [],
   "source": [
    "#merging breast, colon, and lung cancer data sets together\n",
    "TCGA = BRCA.merge(COAD,left_index = True, right_index=True).merge(LUAD, left_index = True, right_index = True).transpose()\n",
    "TCGA_class = BRCA_class.append(COAD_class).append(LUAD_class)"
   ]
  },
  {
   "cell_type": "markdown",
   "metadata": {},
   "source": [
    "## 4) Show me the head of your data."
   ]
  },
  {
   "cell_type": "code",
   "execution_count": 60,
   "metadata": {},
   "outputs": [
    {
     "data": {
      "text/html": [
       "<div>\n",
       "<style scoped>\n",
       "    .dataframe tbody tr th:only-of-type {\n",
       "        vertical-align: middle;\n",
       "    }\n",
       "\n",
       "    .dataframe tbody tr th {\n",
       "        vertical-align: top;\n",
       "    }\n",
       "\n",
       "    .dataframe thead th {\n",
       "        text-align: right;\n",
       "    }\n",
       "</style>\n",
       "<table border=\"1\" class=\"dataframe\">\n",
       "  <thead>\n",
       "    <tr style=\"text-align: right;\">\n",
       "      <th></th>\n",
       "      <th>TCGA-A2-A1FV-01A-11D-A13K-05</th>\n",
       "      <th>TCGA-A2-A1FW-01A-11D-A13K-05</th>\n",
       "      <th>TCGA-A2-A1FX-01A-11D-A13K-05</th>\n",
       "      <th>TCGA-A2-A1G0-01A-11D-A13K-05</th>\n",
       "      <th>TCGA-A2-A1G1-01A-21D-A13K-05</th>\n",
       "      <th>TCGA-A2-A1G4-01A-11D-A13K-05</th>\n",
       "      <th>TCGA-A2-A1G6-01A-11D-A13K-05</th>\n",
       "      <th>TCGA-A7-A13G-01A-11D-A13K-05</th>\n",
       "      <th>TCGA-A7-A13G-01B-04D-A22R-05</th>\n",
       "      <th>TCGA-A7-A13G-11A-51D-A13T-05</th>\n",
       "      <th>...</th>\n",
       "      <th>TCGA-62-8394-01A-11D-2324-05</th>\n",
       "      <th>TCGA-62-8395-01A-11D-2324-05</th>\n",
       "      <th>TCGA-62-8397-01A-11D-2324-05</th>\n",
       "      <th>TCGA-62-8398-01A-11D-2324-05</th>\n",
       "      <th>TCGA-62-8399-01A-21D-2324-05</th>\n",
       "      <th>TCGA-62-8402-01A-11D-2324-05</th>\n",
       "      <th>TCGA-69-8453-01A-12D-2324-05</th>\n",
       "      <th>TCGA-86-8358-01A-11D-2324-05</th>\n",
       "      <th>TCGA-86-8359-01A-11D-2324-05</th>\n",
       "      <th>TCGA-95-8494-01A-11D-2324-05</th>\n",
       "    </tr>\n",
       "  </thead>\n",
       "  <tbody>\n",
       "    <tr>\n",
       "      <th>cg00017221</th>\n",
       "      <td>0.455644</td>\n",
       "      <td>0.794639</td>\n",
       "      <td>0.244652</td>\n",
       "      <td>0.228041</td>\n",
       "      <td>0.558798</td>\n",
       "      <td>0.575487</td>\n",
       "      <td>0.094010</td>\n",
       "      <td>0.388542</td>\n",
       "      <td>0.526038</td>\n",
       "      <td>0.026675</td>\n",
       "      <td>...</td>\n",
       "      <td>0.733512</td>\n",
       "      <td>0.511847</td>\n",
       "      <td>0.588603</td>\n",
       "      <td>0.026484</td>\n",
       "      <td>0.036670</td>\n",
       "      <td>0.581636</td>\n",
       "      <td>0.479904</td>\n",
       "      <td>0.440814</td>\n",
       "      <td>0.588160</td>\n",
       "      <td>0.664877</td>\n",
       "    </tr>\n",
       "    <tr>\n",
       "      <th>cg00084798</th>\n",
       "      <td>0.270184</td>\n",
       "      <td>0.207219</td>\n",
       "      <td>0.299423</td>\n",
       "      <td>0.365860</td>\n",
       "      <td>0.516773</td>\n",
       "      <td>0.349599</td>\n",
       "      <td>0.847959</td>\n",
       "      <td>0.814257</td>\n",
       "      <td>0.847957</td>\n",
       "      <td>0.897655</td>\n",
       "      <td>...</td>\n",
       "      <td>0.513907</td>\n",
       "      <td>0.636977</td>\n",
       "      <td>0.532443</td>\n",
       "      <td>0.428834</td>\n",
       "      <td>0.451353</td>\n",
       "      <td>0.505689</td>\n",
       "      <td>0.794795</td>\n",
       "      <td>0.447346</td>\n",
       "      <td>0.423033</td>\n",
       "      <td>0.393241</td>\n",
       "    </tr>\n",
       "    <tr>\n",
       "      <th>cg00097146</th>\n",
       "      <td>0.692287</td>\n",
       "      <td>0.827932</td>\n",
       "      <td>0.522516</td>\n",
       "      <td>0.208185</td>\n",
       "      <td>0.300092</td>\n",
       "      <td>0.474469</td>\n",
       "      <td>0.237421</td>\n",
       "      <td>0.698200</td>\n",
       "      <td>0.682212</td>\n",
       "      <td>0.016472</td>\n",
       "      <td>...</td>\n",
       "      <td>0.538358</td>\n",
       "      <td>0.594067</td>\n",
       "      <td>0.365168</td>\n",
       "      <td>0.488368</td>\n",
       "      <td>0.509641</td>\n",
       "      <td>0.646018</td>\n",
       "      <td>0.464575</td>\n",
       "      <td>0.753420</td>\n",
       "      <td>0.567877</td>\n",
       "      <td>0.573478</td>\n",
       "    </tr>\n",
       "    <tr>\n",
       "      <th>cg00160262</th>\n",
       "      <td>0.165923</td>\n",
       "      <td>0.170450</td>\n",
       "      <td>0.244715</td>\n",
       "      <td>0.348639</td>\n",
       "      <td>0.414625</td>\n",
       "      <td>0.504691</td>\n",
       "      <td>0.703796</td>\n",
       "      <td>0.492045</td>\n",
       "      <td>0.525461</td>\n",
       "      <td>0.850632</td>\n",
       "      <td>...</td>\n",
       "      <td>0.293936</td>\n",
       "      <td>0.608706</td>\n",
       "      <td>0.326509</td>\n",
       "      <td>0.332840</td>\n",
       "      <td>0.318885</td>\n",
       "      <td>0.375124</td>\n",
       "      <td>0.613049</td>\n",
       "      <td>0.300874</td>\n",
       "      <td>0.358843</td>\n",
       "      <td>0.347835</td>\n",
       "    </tr>\n",
       "    <tr>\n",
       "      <th>cg00217080</th>\n",
       "      <td>0.129988</td>\n",
       "      <td>0.064050</td>\n",
       "      <td>0.265657</td>\n",
       "      <td>0.412820</td>\n",
       "      <td>0.281495</td>\n",
       "      <td>0.748496</td>\n",
       "      <td>0.975672</td>\n",
       "      <td>0.608130</td>\n",
       "      <td>0.581393</td>\n",
       "      <td>0.968700</td>\n",
       "      <td>...</td>\n",
       "      <td>0.370406</td>\n",
       "      <td>0.930251</td>\n",
       "      <td>0.541778</td>\n",
       "      <td>0.719670</td>\n",
       "      <td>0.303106</td>\n",
       "      <td>0.271959</td>\n",
       "      <td>0.763250</td>\n",
       "      <td>0.944420</td>\n",
       "      <td>0.425131</td>\n",
       "      <td>0.448540</td>\n",
       "    </tr>\n",
       "    <tr>\n",
       "      <th>cg00295794</th>\n",
       "      <td>0.804098</td>\n",
       "      <td>0.903405</td>\n",
       "      <td>0.623872</td>\n",
       "      <td>0.566034</td>\n",
       "      <td>0.657521</td>\n",
       "      <td>0.846524</td>\n",
       "      <td>0.354040</td>\n",
       "      <td>0.569173</td>\n",
       "      <td>0.249239</td>\n",
       "      <td>0.027727</td>\n",
       "      <td>...</td>\n",
       "      <td>0.741503</td>\n",
       "      <td>0.535185</td>\n",
       "      <td>0.194748</td>\n",
       "      <td>0.461431</td>\n",
       "      <td>0.111619</td>\n",
       "      <td>0.729656</td>\n",
       "      <td>0.453860</td>\n",
       "      <td>0.088326</td>\n",
       "      <td>0.583710</td>\n",
       "      <td>0.573658</td>\n",
       "    </tr>\n",
       "    <tr>\n",
       "      <th>cg00384539</th>\n",
       "      <td>0.825425</td>\n",
       "      <td>0.593289</td>\n",
       "      <td>0.585231</td>\n",
       "      <td>0.525276</td>\n",
       "      <td>0.658923</td>\n",
       "      <td>0.725352</td>\n",
       "      <td>0.080787</td>\n",
       "      <td>0.011465</td>\n",
       "      <td>0.017268</td>\n",
       "      <td>0.025254</td>\n",
       "      <td>...</td>\n",
       "      <td>0.073760</td>\n",
       "      <td>0.699871</td>\n",
       "      <td>0.241197</td>\n",
       "      <td>0.236617</td>\n",
       "      <td>0.116142</td>\n",
       "      <td>0.706069</td>\n",
       "      <td>0.566023</td>\n",
       "      <td>0.771583</td>\n",
       "      <td>0.699860</td>\n",
       "      <td>0.667184</td>\n",
       "    </tr>\n",
       "    <tr>\n",
       "      <th>cg00396667</th>\n",
       "      <td>0.804415</td>\n",
       "      <td>0.869170</td>\n",
       "      <td>0.718047</td>\n",
       "      <td>0.770583</td>\n",
       "      <td>0.538549</td>\n",
       "      <td>0.755876</td>\n",
       "      <td>0.254111</td>\n",
       "      <td>0.813136</td>\n",
       "      <td>0.672301</td>\n",
       "      <td>0.017729</td>\n",
       "      <td>...</td>\n",
       "      <td>0.518395</td>\n",
       "      <td>0.354594</td>\n",
       "      <td>0.712094</td>\n",
       "      <td>0.572462</td>\n",
       "      <td>0.509872</td>\n",
       "      <td>0.612868</td>\n",
       "      <td>0.472222</td>\n",
       "      <td>0.806533</td>\n",
       "      <td>0.494827</td>\n",
       "      <td>0.731495</td>\n",
       "    </tr>\n",
       "    <tr>\n",
       "      <th>cg00459623</th>\n",
       "      <td>0.027807</td>\n",
       "      <td>0.717580</td>\n",
       "      <td>0.127058</td>\n",
       "      <td>0.018983</td>\n",
       "      <td>0.465221</td>\n",
       "      <td>0.791417</td>\n",
       "      <td>0.037251</td>\n",
       "      <td>0.017251</td>\n",
       "      <td>0.026545</td>\n",
       "      <td>0.021090</td>\n",
       "      <td>...</td>\n",
       "      <td>0.538593</td>\n",
       "      <td>0.669082</td>\n",
       "      <td>0.046618</td>\n",
       "      <td>0.036508</td>\n",
       "      <td>0.029375</td>\n",
       "      <td>0.713663</td>\n",
       "      <td>0.426850</td>\n",
       "      <td>0.801412</td>\n",
       "      <td>0.516802</td>\n",
       "      <td>0.673157</td>\n",
       "    </tr>\n",
       "    <tr>\n",
       "      <th>cg00495860</th>\n",
       "      <td>0.745886</td>\n",
       "      <td>0.825665</td>\n",
       "      <td>0.708716</td>\n",
       "      <td>0.530338</td>\n",
       "      <td>0.609812</td>\n",
       "      <td>0.732081</td>\n",
       "      <td>0.150543</td>\n",
       "      <td>0.704103</td>\n",
       "      <td>0.741379</td>\n",
       "      <td>0.018145</td>\n",
       "      <td>...</td>\n",
       "      <td>0.629133</td>\n",
       "      <td>0.626151</td>\n",
       "      <td>0.737119</td>\n",
       "      <td>0.467438</td>\n",
       "      <td>0.095421</td>\n",
       "      <td>0.394207</td>\n",
       "      <td>0.548740</td>\n",
       "      <td>0.825410</td>\n",
       "      <td>0.474461</td>\n",
       "      <td>0.579344</td>\n",
       "    </tr>\n",
       "  </tbody>\n",
       "</table>\n",
       "<p>10 rows × 1752 columns</p>\n",
       "</div>"
      ],
      "text/plain": [
       "            TCGA-A2-A1FV-01A-11D-A13K-05  TCGA-A2-A1FW-01A-11D-A13K-05  \\\n",
       "cg00017221                      0.455644                      0.794639   \n",
       "cg00084798                      0.270184                      0.207219   \n",
       "cg00097146                      0.692287                      0.827932   \n",
       "cg00160262                      0.165923                      0.170450   \n",
       "cg00217080                      0.129988                      0.064050   \n",
       "cg00295794                      0.804098                      0.903405   \n",
       "cg00384539                      0.825425                      0.593289   \n",
       "cg00396667                      0.804415                      0.869170   \n",
       "cg00459623                      0.027807                      0.717580   \n",
       "cg00495860                      0.745886                      0.825665   \n",
       "\n",
       "            TCGA-A2-A1FX-01A-11D-A13K-05  TCGA-A2-A1G0-01A-11D-A13K-05  \\\n",
       "cg00017221                      0.244652                      0.228041   \n",
       "cg00084798                      0.299423                      0.365860   \n",
       "cg00097146                      0.522516                      0.208185   \n",
       "cg00160262                      0.244715                      0.348639   \n",
       "cg00217080                      0.265657                      0.412820   \n",
       "cg00295794                      0.623872                      0.566034   \n",
       "cg00384539                      0.585231                      0.525276   \n",
       "cg00396667                      0.718047                      0.770583   \n",
       "cg00459623                      0.127058                      0.018983   \n",
       "cg00495860                      0.708716                      0.530338   \n",
       "\n",
       "            TCGA-A2-A1G1-01A-21D-A13K-05  TCGA-A2-A1G4-01A-11D-A13K-05  \\\n",
       "cg00017221                      0.558798                      0.575487   \n",
       "cg00084798                      0.516773                      0.349599   \n",
       "cg00097146                      0.300092                      0.474469   \n",
       "cg00160262                      0.414625                      0.504691   \n",
       "cg00217080                      0.281495                      0.748496   \n",
       "cg00295794                      0.657521                      0.846524   \n",
       "cg00384539                      0.658923                      0.725352   \n",
       "cg00396667                      0.538549                      0.755876   \n",
       "cg00459623                      0.465221                      0.791417   \n",
       "cg00495860                      0.609812                      0.732081   \n",
       "\n",
       "            TCGA-A2-A1G6-01A-11D-A13K-05  TCGA-A7-A13G-01A-11D-A13K-05  \\\n",
       "cg00017221                      0.094010                      0.388542   \n",
       "cg00084798                      0.847959                      0.814257   \n",
       "cg00097146                      0.237421                      0.698200   \n",
       "cg00160262                      0.703796                      0.492045   \n",
       "cg00217080                      0.975672                      0.608130   \n",
       "cg00295794                      0.354040                      0.569173   \n",
       "cg00384539                      0.080787                      0.011465   \n",
       "cg00396667                      0.254111                      0.813136   \n",
       "cg00459623                      0.037251                      0.017251   \n",
       "cg00495860                      0.150543                      0.704103   \n",
       "\n",
       "            TCGA-A7-A13G-01B-04D-A22R-05  TCGA-A7-A13G-11A-51D-A13T-05  ...  \\\n",
       "cg00017221                      0.526038                      0.026675  ...   \n",
       "cg00084798                      0.847957                      0.897655  ...   \n",
       "cg00097146                      0.682212                      0.016472  ...   \n",
       "cg00160262                      0.525461                      0.850632  ...   \n",
       "cg00217080                      0.581393                      0.968700  ...   \n",
       "cg00295794                      0.249239                      0.027727  ...   \n",
       "cg00384539                      0.017268                      0.025254  ...   \n",
       "cg00396667                      0.672301                      0.017729  ...   \n",
       "cg00459623                      0.026545                      0.021090  ...   \n",
       "cg00495860                      0.741379                      0.018145  ...   \n",
       "\n",
       "            TCGA-62-8394-01A-11D-2324-05  TCGA-62-8395-01A-11D-2324-05  \\\n",
       "cg00017221                      0.733512                      0.511847   \n",
       "cg00084798                      0.513907                      0.636977   \n",
       "cg00097146                      0.538358                      0.594067   \n",
       "cg00160262                      0.293936                      0.608706   \n",
       "cg00217080                      0.370406                      0.930251   \n",
       "cg00295794                      0.741503                      0.535185   \n",
       "cg00384539                      0.073760                      0.699871   \n",
       "cg00396667                      0.518395                      0.354594   \n",
       "cg00459623                      0.538593                      0.669082   \n",
       "cg00495860                      0.629133                      0.626151   \n",
       "\n",
       "            TCGA-62-8397-01A-11D-2324-05  TCGA-62-8398-01A-11D-2324-05  \\\n",
       "cg00017221                      0.588603                      0.026484   \n",
       "cg00084798                      0.532443                      0.428834   \n",
       "cg00097146                      0.365168                      0.488368   \n",
       "cg00160262                      0.326509                      0.332840   \n",
       "cg00217080                      0.541778                      0.719670   \n",
       "cg00295794                      0.194748                      0.461431   \n",
       "cg00384539                      0.241197                      0.236617   \n",
       "cg00396667                      0.712094                      0.572462   \n",
       "cg00459623                      0.046618                      0.036508   \n",
       "cg00495860                      0.737119                      0.467438   \n",
       "\n",
       "            TCGA-62-8399-01A-21D-2324-05  TCGA-62-8402-01A-11D-2324-05  \\\n",
       "cg00017221                      0.036670                      0.581636   \n",
       "cg00084798                      0.451353                      0.505689   \n",
       "cg00097146                      0.509641                      0.646018   \n",
       "cg00160262                      0.318885                      0.375124   \n",
       "cg00217080                      0.303106                      0.271959   \n",
       "cg00295794                      0.111619                      0.729656   \n",
       "cg00384539                      0.116142                      0.706069   \n",
       "cg00396667                      0.509872                      0.612868   \n",
       "cg00459623                      0.029375                      0.713663   \n",
       "cg00495860                      0.095421                      0.394207   \n",
       "\n",
       "            TCGA-69-8453-01A-12D-2324-05  TCGA-86-8358-01A-11D-2324-05  \\\n",
       "cg00017221                      0.479904                      0.440814   \n",
       "cg00084798                      0.794795                      0.447346   \n",
       "cg00097146                      0.464575                      0.753420   \n",
       "cg00160262                      0.613049                      0.300874   \n",
       "cg00217080                      0.763250                      0.944420   \n",
       "cg00295794                      0.453860                      0.088326   \n",
       "cg00384539                      0.566023                      0.771583   \n",
       "cg00396667                      0.472222                      0.806533   \n",
       "cg00459623                      0.426850                      0.801412   \n",
       "cg00495860                      0.548740                      0.825410   \n",
       "\n",
       "            TCGA-86-8359-01A-11D-2324-05  TCGA-95-8494-01A-11D-2324-05  \n",
       "cg00017221                      0.588160                      0.664877  \n",
       "cg00084798                      0.423033                      0.393241  \n",
       "cg00097146                      0.567877                      0.573478  \n",
       "cg00160262                      0.358843                      0.347835  \n",
       "cg00217080                      0.425131                      0.448540  \n",
       "cg00295794                      0.583710                      0.573658  \n",
       "cg00384539                      0.699860                      0.667184  \n",
       "cg00396667                      0.494827                      0.731495  \n",
       "cg00459623                      0.516802                      0.673157  \n",
       "cg00495860                      0.474461                      0.579344  \n",
       "\n",
       "[10 rows x 1752 columns]"
      ]
     },
     "execution_count": 60,
     "metadata": {},
     "output_type": "execute_result"
    }
   ],
   "source": [
    "TCGA.transpose().head(10)"
   ]
  },
  {
   "cell_type": "code",
   "execution_count": 55,
   "metadata": {},
   "outputs": [
    {
     "data": {
      "text/plain": [
       "TCGA-A2-A1FV-01A-11D-A13K-05    1\n",
       "TCGA-A2-A1FW-01A-11D-A13K-05    1\n",
       "TCGA-A2-A1FX-01A-11D-A13K-05    1\n",
       "TCGA-A2-A1G0-01A-11D-A13K-05    1\n",
       "TCGA-A2-A1G1-01A-21D-A13K-05    1\n",
       "TCGA-A2-A1G4-01A-11D-A13K-05    1\n",
       "TCGA-A2-A1G6-01A-11D-A13K-05    1\n",
       "TCGA-A7-A13G-01A-11D-A13K-05    1\n",
       "TCGA-A7-A13G-01B-04D-A22R-05    1\n",
       "TCGA-A7-A13G-11A-51D-A13T-05    0\n",
       "TCGA-AO-A1KO-01A-31D-A13K-05    1\n",
       "TCGA-AO-A1KP-01A-11D-A13K-05    1\n",
       "TCGA-AO-A1KQ-01A-11D-A13K-05    1\n",
       "TCGA-AO-A1KS-01A-11D-A13K-05    1\n",
       "TCGA-AO-A1KT-01A-11D-A13K-05    1\n",
       "TCGA-AQ-A1H2-01A-11D-A13K-05    1\n",
       "TCGA-AQ-A1H3-01A-31D-A13K-05    1\n",
       "TCGA-B6-A1KC-01A-11D-A13K-05    1\n",
       "TCGA-B6-A1KC-01B-11D-A161-05    1\n",
       "TCGA-B6-A1KF-01A-11D-A13K-05    1\n",
       "Name: x, dtype: int64"
      ]
     },
     "execution_count": 55,
     "metadata": {},
     "output_type": "execute_result"
    }
   ],
   "source": [
    "TCGA_class.head(20)"
   ]
  },
  {
   "cell_type": "markdown",
   "metadata": {},
   "source": [
    "## 5) Show me the shape of your data"
   ]
  },
  {
   "cell_type": "code",
   "execution_count": 61,
   "metadata": {},
   "outputs": [
    {
     "data": {
      "text/plain": [
       "(1752, 365)"
      ]
     },
     "execution_count": 61,
     "metadata": {},
     "output_type": "execute_result"
    }
   ],
   "source": [
    "TCGA.shape"
   ]
  },
  {
   "cell_type": "markdown",
   "metadata": {},
   "source": [
    "## 6) Show me the proportion of missing observations for each column of your data"
   ]
  },
  {
   "cell_type": "code",
   "execution_count": 62,
   "metadata": {},
   "outputs": [
    {
     "data": {
      "text/plain": [
       "TCGA-A2-A1FV-01A-11D-A13K-05    0.0\n",
       "TCGA-A2-A1FW-01A-11D-A13K-05    0.0\n",
       "TCGA-A2-A1FX-01A-11D-A13K-05    0.0\n",
       "TCGA-A2-A1G0-01A-11D-A13K-05    0.0\n",
       "TCGA-A2-A1G1-01A-21D-A13K-05    0.0\n",
       "TCGA-A2-A1G4-01A-11D-A13K-05    0.0\n",
       "TCGA-A2-A1G6-01A-11D-A13K-05    0.0\n",
       "TCGA-A7-A13G-01A-11D-A13K-05    0.0\n",
       "TCGA-A7-A13G-01B-04D-A22R-05    0.0\n",
       "TCGA-A7-A13G-11A-51D-A13T-05    0.0\n",
       "TCGA-AO-A1KO-01A-31D-A13K-05    0.0\n",
       "TCGA-AO-A1KP-01A-11D-A13K-05    0.0\n",
       "TCGA-AO-A1KQ-01A-11D-A13K-05    0.0\n",
       "TCGA-AO-A1KS-01A-11D-A13K-05    0.0\n",
       "TCGA-AO-A1KT-01A-11D-A13K-05    0.0\n",
       "TCGA-AQ-A1H2-01A-11D-A13K-05    0.0\n",
       "TCGA-AQ-A1H3-01A-31D-A13K-05    0.0\n",
       "TCGA-B6-A1KC-01A-11D-A13K-05    0.0\n",
       "TCGA-B6-A1KC-01B-11D-A161-05    0.0\n",
       "TCGA-B6-A1KF-01A-11D-A13K-05    0.0\n",
       "TCGA-B6-A1KN-01A-11D-A13K-05    0.0\n",
       "TCGA-BH-A1EN-01A-11D-A13K-05    0.0\n",
       "TCGA-BH-A1EN-11A-23D-A13T-05    0.0\n",
       "TCGA-BH-A1EX-01A-11D-A13K-05    0.0\n",
       "TCGA-BH-A1EY-01A-11D-A13K-05    0.0\n",
       "TCGA-BH-A1EY-11B-21D-A13T-05    0.0\n",
       "TCGA-BH-A1F2-01A-31D-A13K-05    0.0\n",
       "TCGA-BH-A1F2-11A-32D-A13T-05    0.0\n",
       "TCGA-BH-A1F5-01A-12D-A13K-05    0.0\n",
       "TCGA-BH-A1F5-11A-43D-A13T-05    0.0\n",
       "                               ... \n",
       "TCGA-55-7816-01A-11D-2168-05    0.0\n",
       "TCGA-55-7903-01A-11D-2168-05    0.0\n",
       "TCGA-55-7907-01A-11D-2168-05    0.0\n",
       "TCGA-55-7910-01A-11D-2168-05    0.0\n",
       "TCGA-55-7911-01A-11D-2168-05    0.0\n",
       "TCGA-55-7914-01A-11D-2168-05    0.0\n",
       "TCGA-69-7760-01A-11D-2168-05    0.0\n",
       "TCGA-69-7761-01A-11D-2168-05    0.0\n",
       "TCGA-69-7763-01A-11D-2168-05    0.0\n",
       "TCGA-69-7764-01A-11D-2168-05    0.0\n",
       "TCGA-69-7765-01A-11D-2168-05    0.0\n",
       "TCGA-86-7701-01A-11D-2168-05    0.0\n",
       "TCGA-86-7714-01A-12D-2168-05    0.0\n",
       "TCGA-91-7771-01A-11D-2168-05    0.0\n",
       "TCGA-97-7937-01A-11D-2168-05    0.0\n",
       "TCGA-97-7938-01A-11D-2168-05    0.0\n",
       "TCGA-50-8457-01A-11D-2324-05    0.0\n",
       "TCGA-50-8459-01A-11D-2324-05    0.0\n",
       "TCGA-50-8460-01A-11D-2324-05    0.0\n",
       "TCGA-55-8302-01A-11D-2324-05    0.0\n",
       "TCGA-62-8394-01A-11D-2324-05    0.0\n",
       "TCGA-62-8395-01A-11D-2324-05    0.0\n",
       "TCGA-62-8397-01A-11D-2324-05    0.0\n",
       "TCGA-62-8398-01A-11D-2324-05    0.0\n",
       "TCGA-62-8399-01A-21D-2324-05    0.0\n",
       "TCGA-62-8402-01A-11D-2324-05    0.0\n",
       "TCGA-69-8453-01A-12D-2324-05    0.0\n",
       "TCGA-86-8358-01A-11D-2324-05    0.0\n",
       "TCGA-86-8359-01A-11D-2324-05    0.0\n",
       "TCGA-95-8494-01A-11D-2324-05    0.0\n",
       "Length: 1752, dtype: float64"
      ]
     },
     "execution_count": 62,
     "metadata": {},
     "output_type": "execute_result"
    }
   ],
   "source": [
    "TCGA.isna().sum(axis = 1)/TCGA.shape[0]"
   ]
  },
  {
   "cell_type": "markdown",
   "metadata": {},
   "source": [
    "I tried three different numbers so that I wouldn't overfit for the max depth, knn, and mean cutoff. \n",
    "Strengths and weaknesses of these two methods. \n",
    "Do the results reflect these strengths and weaknesses given my setup and my data. "
   ]
  },
  {
   "cell_type": "markdown",
   "metadata": {},
   "source": [
    "## 8) What is your _y_-variable?\n",
    "For final project, you will need to perform a statistical model. This means you will have to accurately predict some y-variable for some combination of x-variables. From your problem statement in part 7, what is that y-variable?"
   ]
  },
  {
   "cell_type": "markdown",
   "metadata": {},
   "source": [
    "For my project, the y variable is the sample type, which is either tumor or normal (represented as 1 and 0, respectively)."
   ]
  },
  {
   "cell_type": "code",
   "execution_count": 65,
   "metadata": {},
   "outputs": [],
   "source": [
    "X_train, X_test, y_train, y_test = train_test_split(TCGA, TCGA_class, test_size=0.25, random_state=21)"
   ]
  },
  {
   "cell_type": "code",
   "execution_count": 66,
   "metadata": {},
   "outputs": [
    {
     "data": {
      "text/plain": [
       "(438, 365)"
      ]
     },
     "execution_count": 66,
     "metadata": {},
     "output_type": "execute_result"
    }
   ],
   "source": [
    "X_test.shape"
   ]
  },
  {
   "cell_type": "code",
   "execution_count": 69,
   "metadata": {},
   "outputs": [],
   "source": [
    "y_predicted = DecisionTreeClassifier(max_depth = 5).fit(X_train, y_train).predict(X_test)"
   ]
  },
  {
   "cell_type": "code",
   "execution_count": 70,
   "metadata": {},
   "outputs": [
    {
     "data": {
      "text/plain": [
       "0.0228310502283105"
      ]
     },
     "execution_count": 70,
     "metadata": {},
     "output_type": "execute_result"
    }
   ],
   "source": [
    "mean_squared_error(y_test, y_predicted)"
   ]
  },
  {
   "cell_type": "code",
   "execution_count": 71,
   "metadata": {},
   "outputs": [],
   "source": [
    "y_predicted = KNeighborsClassifier(n_neighbors=3).fit(X_train, y_train).predict(X_test)"
   ]
  },
  {
   "cell_type": "code",
   "execution_count": 72,
   "metadata": {},
   "outputs": [
    {
     "data": {
      "text/plain": [
       "0.0228310502283105"
      ]
     },
     "execution_count": 72,
     "metadata": {},
     "output_type": "execute_result"
    }
   ],
   "source": [
    "mean_squared_error(y_test, y_predicted)"
   ]
  },
  {
   "cell_type": "code",
   "execution_count": 73,
   "metadata": {},
   "outputs": [
    {
     "data": {
      "text/plain": [
       "array([1, 0, 1, 1, 1, 1, 1, 1, 1, 1, 1, 1, 1, 1, 1, 1, 1, 1, 1, 1, 1, 0,\n",
       "       1, 1, 1, 1, 1, 1, 1, 1, 0, 1, 1, 1, 1, 0, 1, 1, 1, 1, 1, 1, 1, 0,\n",
       "       1, 1, 1, 1, 1, 1, 1, 1, 1, 1, 1, 0, 1, 1, 1, 1, 0, 1, 1, 1, 1, 0,\n",
       "       1, 0, 1, 1, 0, 1, 1, 1, 1, 0, 1, 1, 1, 0, 1, 1, 1, 1, 1, 1, 1, 1,\n",
       "       1, 1, 1, 0, 1, 1, 1, 1, 1, 1, 1, 1, 1, 1, 1, 1, 1, 1, 1, 1, 0, 1,\n",
       "       1, 1, 1, 1, 1, 1, 1, 1, 1, 0, 1, 1, 1, 1, 1, 1, 1, 1, 0, 1, 1, 1,\n",
       "       1, 1, 1, 1, 1, 1, 1, 1, 1, 1, 1, 0, 1, 1, 1, 1, 1, 1, 1, 1, 1, 1,\n",
       "       1, 1, 0, 1, 1, 1, 1, 1, 1, 1, 1, 0, 1, 1, 1, 1, 0, 1, 1, 1, 1, 1,\n",
       "       1, 1, 1, 1, 1, 1, 1, 1, 1, 1, 1, 1, 1, 1, 1, 1, 1, 1, 1, 1, 1, 1,\n",
       "       1, 1, 1, 1, 1, 1, 1, 1, 1, 1, 1, 1, 0, 1, 1, 1, 1, 1, 1, 1, 1, 1,\n",
       "       1, 1, 1, 1, 1, 1, 1, 1, 1, 1, 1, 1, 0, 1, 1, 0, 1, 1, 1, 1, 0, 1,\n",
       "       1, 1, 1, 1, 1, 1, 1, 1, 1, 1, 1, 1, 1, 1, 1, 1, 1, 1, 1, 0, 1, 1,\n",
       "       1, 1, 1, 1, 1, 1, 1, 1, 1, 1, 1, 0, 1, 1, 1, 1, 1, 1, 1, 0, 1, 1,\n",
       "       1, 1, 1, 0, 1, 1, 0, 1, 1, 1, 1, 1, 1, 1, 1, 1, 1, 1, 1, 1, 1, 1,\n",
       "       1, 1, 1, 1, 1, 1, 1, 1, 1, 1, 1, 1, 1, 1, 1, 1, 0, 1, 1, 1, 1, 1,\n",
       "       1, 1, 1, 1, 1, 0, 1, 1, 1, 1, 0, 1, 1, 1, 1, 1, 1, 1, 1, 0, 1, 1,\n",
       "       1, 1, 1, 1, 1, 1, 1, 1, 1, 1, 1, 1, 1, 1, 1, 1, 1, 1, 1, 1, 1, 1,\n",
       "       0, 0, 1, 1, 0, 1, 1, 1, 0, 0, 1, 1, 1, 1, 1, 1, 1, 0, 0, 1, 0, 0,\n",
       "       1, 1, 1, 0, 1, 1, 1, 1, 0, 1, 1, 1, 1, 1, 0, 1, 1, 1, 0, 1, 0, 1,\n",
       "       1, 1, 1, 1, 1, 1, 1, 0, 1, 1, 1, 1, 1, 1, 1, 1, 1, 1, 1, 0])"
      ]
     },
     "execution_count": 73,
     "metadata": {},
     "output_type": "execute_result"
    }
   ],
   "source": [
    "y_predicted"
   ]
  },
  {
   "cell_type": "code",
   "execution_count": 74,
   "metadata": {},
   "outputs": [
    {
     "data": {
      "text/plain": [
       "0.9771689497716894"
      ]
     },
     "execution_count": 74,
     "metadata": {},
     "output_type": "execute_result"
    }
   ],
   "source": [
    "(y_predicted == y_test).sum()/y_test.shape[0]"
   ]
  },
  {
   "cell_type": "code",
   "execution_count": null,
   "metadata": {},
   "outputs": [],
   "source": []
  }
 ],
 "metadata": {
  "kernelspec": {
   "display_name": "Python 3",
   "language": "python",
   "name": "python3"
  },
  "language_info": {
   "codemirror_mode": {
    "name": "ipython",
    "version": 3
   },
   "file_extension": ".py",
   "mimetype": "text/x-python",
   "name": "python",
   "nbconvert_exporter": "python",
   "pygments_lexer": "ipython3",
   "version": "3.7.3"
  }
 },
 "nbformat": 4,
 "nbformat_minor": 4
}
